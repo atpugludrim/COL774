{
 "cells": [
  {
   "cell_type": "markdown",
   "metadata": {},
   "source": [
    "# Show, Attend and Tell - Implementation"
   ]
  },
  {
   "cell_type": "markdown",
   "metadata": {},
   "source": [
    " ## Import Libraries"
   ]
  },
  {
   "cell_type": "code",
   "execution_count": 2,
   "metadata": {
    "ExecuteTime": {
     "end_time": "2020-08-02T13:06:54.264654Z",
     "start_time": "2020-08-02T13:06:54.261814Z"
    }
   },
   "outputs": [],
   "source": [
    "import os\n",
    "os.environ['CUDA_LAUNCH_BLOCKING'] = \"0\""
   ]
  },
  {
   "cell_type": "code",
   "execution_count": 3,
   "metadata": {},
   "outputs": [],
   "source": [
    "%matplotlib inline\n",
    "%reload_ext autoreload\n",
    "%autoreload 2"
   ]
  },
  {
   "cell_type": "code",
   "execution_count": 4,
   "metadata": {
    "ExecuteTime": {
     "end_time": "2020-08-03T09:36:16.785057Z",
     "start_time": "2020-08-03T09:36:16.778005Z"
    },
    "init_cell": true
   },
   "outputs": [],
   "source": [
    "from IPython.core.display import display, HTML\n",
    "\n",
    "import warnings\n",
    "warnings.filterwarnings('ignore')\n",
    "\n",
    "import torch\n",
    "from torch import nn\n",
    "import json\n",
    "from torchvision import transforms\n",
    "#from modules.model import *\n",
    "from modules.custom_callbacks import *\n",
    "from fastai.callbacks import lr_finder, SaveModelCallback, EarlyStoppingCallback,ReduceLROnPlateauCallback\n",
    "#from fastai.callbacks.tensorboardX import *\n",
    "from torch.nn.utils.rnn import pack_padded_sequence \n",
    "from torch.utils.data import Dataset, DataLoader\n",
    "from fastai.vision import learner, data\n",
    "from fastai.metrics import top_k_accuracy\n",
    "from fastai.text import *\n",
    "from fastai.vision import *\n",
    "from nltk.translate.bleu_score import corpus_bleu\n",
    "from nltk.translate.bleu_score import sentence_bleu\n",
    "from sklearn.utils import shuffle\n",
    "#import imageio\n",
    "from PIL import Image\n",
    "\n",
    "defaults.device = torch.device('cuda')\n",
    "#CUDA_VISIBLE_DEVICES=\"\"\n",
    "device = torch.device(\"cuda\" if torch.cuda.is_available() else \"cpu\")\n",
    "\n",
    "\n",
    "#%load_ext tensorboard"
   ]
  },
  {
   "cell_type": "markdown",
   "metadata": {},
   "source": [
    "## Image Databunch  Preparation"
   ]
  },
  {
   "cell_type": "markdown",
   "metadata": {},
   "source": [
    "### Loading metadata"
   ]
  },
  {
   "cell_type": "code",
   "execution_count": 5,
   "metadata": {},
   "outputs": [],
   "source": [
    "data_dir = '/home/cse/phd/anz198717/'\n",
    "\n",
    "path = Path(f'{data_dir}/scratch/suchith_data/data/')\n",
    "data_dump = Path('./data')\n",
    "\n",
    "metadata = pd.read_csv(path/\"Train_text.tsv\", sep=\"\\t\",header=None)\n",
    "metadata.rename(columns={0:'filename', 1:'labels'}, inplace=True)"
   ]
  },
  {
   "cell_type": "code",
   "execution_count": 6,
   "metadata": {},
   "outputs": [],
   "source": [
    "metadata['filename'] = metadata.filename.apply(lambda x: f'{path}/{x}' )"
   ]
  },
  {
   "cell_type": "code",
   "execution_count": 7,
   "metadata": {},
   "outputs": [
    {
     "data": {
      "text/html": [
       "<div>\n",
       "<style scoped>\n",
       "    .dataframe tbody tr th:only-of-type {\n",
       "        vertical-align: middle;\n",
       "    }\n",
       "\n",
       "    .dataframe tbody tr th {\n",
       "        vertical-align: top;\n",
       "    }\n",
       "\n",
       "    .dataframe thead th {\n",
       "        text-align: right;\n",
       "    }\n",
       "</style>\n",
       "<table border=\"1\" class=\"dataframe\">\n",
       "  <thead>\n",
       "    <tr style=\"text-align: right;\">\n",
       "      <th></th>\n",
       "      <th>filename</th>\n",
       "      <th>labels</th>\n",
       "    </tr>\n",
       "  </thead>\n",
       "  <tbody>\n",
       "    <tr>\n",
       "      <th>0</th>\n",
       "      <td>/home/cse/phd/anz198717/scratch/suchith_data/d...</td>\n",
       "      <td>two men in green shirts</td>\n",
       "    </tr>\n",
       "    <tr>\n",
       "      <th>1</th>\n",
       "      <td>/home/cse/phd/anz198717/scratch/suchith_data/d...</td>\n",
       "      <td>a girl in an innertube</td>\n",
       "    </tr>\n",
       "    <tr>\n",
       "      <th>2</th>\n",
       "      <td>/home/cse/phd/anz198717/scratch/suchith_data/d...</td>\n",
       "      <td>several men in hard hats are</td>\n",
       "    </tr>\n",
       "    <tr>\n",
       "      <th>3</th>\n",
       "      <td>/home/cse/phd/anz198717/scratch/suchith_data/d...</td>\n",
       "      <td>a woman in a brown</td>\n",
       "    </tr>\n",
       "    <tr>\n",
       "      <th>4</th>\n",
       "      <td>/home/cse/phd/anz198717/scratch/suchith_data/d...</td>\n",
       "      <td>a little girl in a</td>\n",
       "    </tr>\n",
       "  </tbody>\n",
       "</table>\n",
       "</div>"
      ],
      "text/plain": [
       "                                            filename  \\\n",
       "0  /home/cse/phd/anz198717/scratch/suchith_data/d...   \n",
       "1  /home/cse/phd/anz198717/scratch/suchith_data/d...   \n",
       "2  /home/cse/phd/anz198717/scratch/suchith_data/d...   \n",
       "3  /home/cse/phd/anz198717/scratch/suchith_data/d...   \n",
       "4  /home/cse/phd/anz198717/scratch/suchith_data/d...   \n",
       "\n",
       "                         labels  \n",
       "0       two men in green shirts  \n",
       "1        a girl in an innertube  \n",
       "2  several men in hard hats are  \n",
       "3            a woman in a brown  \n",
       "4            a little girl in a  "
      ]
     },
     "execution_count": 7,
     "metadata": {},
     "output_type": "execute_result"
    }
   ],
   "source": [
    "metadata.head()"
   ]
  },
  {
   "cell_type": "markdown",
   "metadata": {},
   "source": [
    "### Processing captions text"
   ]
  },
  {
   "cell_type": "code",
   "execution_count": 8,
   "metadata": {},
   "outputs": [],
   "source": [
    "captions = metadata['labels'].values"
   ]
  },
  {
   "cell_type": "markdown",
   "metadata": {},
   "source": [
    "### Tokenization"
   ]
  },
  {
   "cell_type": "code",
   "execution_count": 9,
   "metadata": {},
   "outputs": [],
   "source": [
    "tokenizer = Tokenizer()\n",
    "tokens_captions = tokenizer.process_all(captions)"
   ]
  },
  {
   "cell_type": "code",
   "execution_count": 10,
   "metadata": {},
   "outputs": [],
   "source": [
    "\"\"\"\n",
    "with open(data_dump/'tokens_captions.pkl', 'wb') as file:\n",
    "    pickle.dump(tokens_captions, file)\n",
    "\"\"\"\n",
    "pass"
   ]
  },
  {
   "cell_type": "code",
   "execution_count": 11,
   "metadata": {},
   "outputs": [],
   "source": [
    "with open(data_dump/'tokens_captions.pkl', 'rb') as file:\n",
    "    tokens_captions = pickle.load(file)"
   ]
  },
  {
   "cell_type": "code",
   "execution_count": 12,
   "metadata": {},
   "outputs": [],
   "source": [
    "token_count = {}\n",
    "for cap in tokens_captions:\n",
    "    for t in cap:\n",
    "        token_count[t] = token_count.get(t, 0) + 1"
   ]
  },
  {
   "cell_type": "markdown",
   "metadata": {},
   "source": [
    "#### Looking at the captions"
   ]
  },
  {
   "cell_type": "markdown",
   "metadata": {},
   "source": [
    "The captions are very skewed"
   ]
  },
  {
   "cell_type": "code",
   "execution_count": 13,
   "metadata": {},
   "outputs": [],
   "source": [
    "v, c = zip(*token_count.items())\n",
    "v = np.array(v)\n",
    "c = np.array(c)\n",
    "sort_pos = np.argsort(c)"
   ]
  },
  {
   "cell_type": "code",
   "execution_count": 14,
   "metadata": {},
   "outputs": [
    {
     "data": {
      "text/plain": [
       "[<matplotlib.lines.Line2D at 0x2ac14b615190>]"
      ]
     },
     "execution_count": 14,
     "metadata": {},
     "output_type": "execute_result"
    },
    {
     "data": {
      "image/png": "[encoded data removed]",
      "text/plain": [
       "<Figure size 432x288 with 1 Axes>"
      ]
     },
     "metadata": {
      "needs_background": "light"
     },
     "output_type": "display_data"
    }
   ],
   "source": [
    "plt.plot(c[sort_pos][:-100])"
   ]
  },
  {
   "cell_type": "code",
   "execution_count": 15,
   "metadata": {},
   "outputs": [
    {
     "data": {
      "text/plain": [
       "array(['with', 'and', 'on', 'two', 'the', 'woman', 'is', 'man', 'in', 'a'], dtype='<U16')"
      ]
     },
     "execution_count": 15,
     "metadata": {},
     "output_type": "execute_result"
    }
   ],
   "source": [
    "v[sort_pos][-10:]"
   ]
  },
  {
   "cell_type": "markdown",
   "metadata": {},
   "source": [
    "Average length of the captions"
   ]
  },
  {
   "cell_type": "code",
   "execution_count": 16,
   "metadata": {},
   "outputs": [
    {
     "data": {
      "text/plain": [
       "5.82446"
      ]
     },
     "execution_count": 16,
     "metadata": {},
     "output_type": "execute_result"
    }
   ],
   "source": [
    "np.mean(list(map(len, tokens_captions)) )"
   ]
  },
  {
   "cell_type": "code",
   "execution_count": 17,
   "metadata": {},
   "outputs": [],
   "source": [
    "avg_pred = ['on', 'two', 'the', 'woman', 'is', 'man', 'in', 'a']\n",
    "avg_senc = ' '.join(avg_pred)"
   ]
  },
  {
   "cell_type": "markdown",
   "metadata": {},
   "source": [
    "saving the average predictions"
   ]
  },
  {
   "cell_type": "code",
   "execution_count": 18,
   "metadata": {},
   "outputs": [],
   "source": [
    "test_dir = Path(path/'test_data')\n",
    "test_files = list(map(lambda x: f'test_data/{x}', os.listdir(test_dir)))"
   ]
  },
  {
   "cell_type": "code",
   "execution_count": 19,
   "metadata": {},
   "outputs": [],
   "source": [
    "pred = pd.DataFrame(test_files, columns=['filename'])\n",
    "pred['labels'] = avg_senc"
   ]
  },
  {
   "cell_type": "code",
   "execution_count": 20,
   "metadata": {},
   "outputs": [
    {
     "data": {
      "text/html": [
       "<div>\n",
       "<style scoped>\n",
       "    .dataframe tbody tr th:only-of-type {\n",
       "        vertical-align: middle;\n",
       "    }\n",
       "\n",
       "    .dataframe tbody tr th {\n",
       "        vertical-align: top;\n",
       "    }\n",
       "\n",
       "    .dataframe thead th {\n",
       "        text-align: right;\n",
       "    }\n",
       "</style>\n",
       "<table border=\"1\" class=\"dataframe\">\n",
       "  <thead>\n",
       "    <tr style=\"text-align: right;\">\n",
       "      <th></th>\n",
       "      <th>filename</th>\n",
       "      <th>labels</th>\n",
       "    </tr>\n",
       "  </thead>\n",
       "  <tbody>\n",
       "    <tr>\n",
       "      <th>0</th>\n",
       "      <td>test_data/test4275.jpg</td>\n",
       "      <td>on two the woman is man in a</td>\n",
       "    </tr>\n",
       "    <tr>\n",
       "      <th>1</th>\n",
       "      <td>test_data/test1582.jpg</td>\n",
       "      <td>on two the woman is man in a</td>\n",
       "    </tr>\n",
       "    <tr>\n",
       "      <th>2</th>\n",
       "      <td>test_data/test4227.jpg</td>\n",
       "      <td>on two the woman is man in a</td>\n",
       "    </tr>\n",
       "    <tr>\n",
       "      <th>3</th>\n",
       "      <td>test_data/test1500.jpg</td>\n",
       "      <td>on two the woman is man in a</td>\n",
       "    </tr>\n",
       "    <tr>\n",
       "      <th>4</th>\n",
       "      <td>test_data/test3127.jpg</td>\n",
       "      <td>on two the woman is man in a</td>\n",
       "    </tr>\n",
       "    <tr>\n",
       "      <th>...</th>\n",
       "      <td>...</td>\n",
       "      <td>...</td>\n",
       "    </tr>\n",
       "    <tr>\n",
       "      <th>4995</th>\n",
       "      <td>test_data/test2690.jpg</td>\n",
       "      <td>on two the woman is man in a</td>\n",
       "    </tr>\n",
       "    <tr>\n",
       "      <th>4996</th>\n",
       "      <td>test_data/test4471.jpg</td>\n",
       "      <td>on two the woman is man in a</td>\n",
       "    </tr>\n",
       "    <tr>\n",
       "      <th>4997</th>\n",
       "      <td>test_data/test184.jpg</td>\n",
       "      <td>on two the woman is man in a</td>\n",
       "    </tr>\n",
       "    <tr>\n",
       "      <th>4998</th>\n",
       "      <td>test_data/test3606.jpg</td>\n",
       "      <td>on two the woman is man in a</td>\n",
       "    </tr>\n",
       "    <tr>\n",
       "      <th>4999</th>\n",
       "      <td>test_data/test403.jpg</td>\n",
       "      <td>on two the woman is man in a</td>\n",
       "    </tr>\n",
       "  </tbody>\n",
       "</table>\n",
       "<p>5000 rows × 2 columns</p>\n",
       "</div>"
      ],
      "text/plain": [
       "                    filename                        labels\n",
       "0     test_data/test4275.jpg  on two the woman is man in a\n",
       "1     test_data/test1582.jpg  on two the woman is man in a\n",
       "2     test_data/test4227.jpg  on two the woman is man in a\n",
       "3     test_data/test1500.jpg  on two the woman is man in a\n",
       "4     test_data/test3127.jpg  on two the woman is man in a\n",
       "...                      ...                           ...\n",
       "4995  test_data/test2690.jpg  on two the woman is man in a\n",
       "4996  test_data/test4471.jpg  on two the woman is man in a\n",
       "4997   test_data/test184.jpg  on two the woman is man in a\n",
       "4998  test_data/test3606.jpg  on two the woman is man in a\n",
       "4999   test_data/test403.jpg  on two the woman is man in a\n",
       "\n",
       "[5000 rows x 2 columns]"
      ]
     },
     "execution_count": 20,
     "metadata": {},
     "output_type": "execute_result"
    }
   ],
   "source": [
    "pred"
   ]
  },
  {
   "cell_type": "code",
   "execution_count": 21,
   "metadata": {},
   "outputs": [],
   "source": [
    "pred.to_csv(path/'Test_text.tsv', sep=\"\\t\",header=None, index=None)"
   ]
  },
  {
   "cell_type": "markdown",
   "metadata": {},
   "source": [
    "### Creating metadata dict"
   ]
  },
  {
   "cell_type": "code",
   "execution_count": 22,
   "metadata": {},
   "outputs": [],
   "source": [
    "metadata['tokens'] = tokens_captions\n",
    "_ = metadata['tokens'].apply(lambda x: x.append('<end>'))\n",
    "_ = metadata['tokens'].apply(lambda x: x.insert(0, '<start>'))"
   ]
  },
  {
   "cell_type": "code",
   "execution_count": 23,
   "metadata": {},
   "outputs": [],
   "source": [
    "vocab = Vocab.create(tokens_captions, max_vocab=50000, min_freq=2)"
   ]
  },
  {
   "cell_type": "code",
   "execution_count": 24,
   "metadata": {},
   "outputs": [],
   "source": [
    "with open(data_dump/'vocab.pkl', 'wb') as file:\n",
    "    pickle.dump(vocab, file)"
   ]
  },
  {
   "cell_type": "code",
   "execution_count": 25,
   "metadata": {},
   "outputs": [],
   "source": [
    "metadata['numericalized'] = metadata.tokens.apply(lambda x: vocab.numericalize(x))"
   ]
  },
  {
   "cell_type": "code",
   "execution_count": 26,
   "metadata": {},
   "outputs": [],
   "source": [
    "N = metadata.shape[0]\n",
    "valid_pc = 0.2\n",
    "\n",
    "num_valid = int(N*valid_pc)\n",
    "rand_idx = np.random.permutation(N)\n",
    "valid_idx = rand_idx[:num_valid]\n",
    "train_idx = rand_idx[num_valid:]"
   ]
  },
  {
   "cell_type": "code",
   "execution_count": 27,
   "metadata": {},
   "outputs": [],
   "source": [
    "metadata['split'] = 'train'\n",
    "metadata['split'].iloc[valid_idx] = 'val'"
   ]
  },
  {
   "cell_type": "code",
   "execution_count": 28,
   "metadata": {},
   "outputs": [],
   "source": [
    "metadata['SeqLen'] = metadata.numericalized.apply(len)"
   ]
  },
  {
   "cell_type": "code",
   "execution_count": 29,
   "metadata": {},
   "outputs": [
    {
     "data": {
      "text/html": [
       "<div>\n",
       "<style scoped>\n",
       "    .dataframe tbody tr th:only-of-type {\n",
       "        vertical-align: middle;\n",
       "    }\n",
       "\n",
       "    .dataframe tbody tr th {\n",
       "        vertical-align: top;\n",
       "    }\n",
       "\n",
       "    .dataframe thead th {\n",
       "        text-align: right;\n",
       "    }\n",
       "</style>\n",
       "<table border=\"1\" class=\"dataframe\">\n",
       "  <thead>\n",
       "    <tr style=\"text-align: right;\">\n",
       "      <th></th>\n",
       "      <th>filename</th>\n",
       "      <th>labels</th>\n",
       "      <th>tokens</th>\n",
       "      <th>numericalized</th>\n",
       "      <th>split</th>\n",
       "      <th>SeqLen</th>\n",
       "    </tr>\n",
       "  </thead>\n",
       "  <tbody>\n",
       "    <tr>\n",
       "      <th>0</th>\n",
       "      <td>/home/cse/phd/anz198717/scratch/suchith_data/d...</td>\n",
       "      <td>two men in green shirts</td>\n",
       "      <td>[&lt;start&gt;, two, men, in, green, shirts, &lt;end&gt;]</td>\n",
       "      <td>[10, 17, 27, 12, 60, 191, 11]</td>\n",
       "      <td>train</td>\n",
       "      <td>7</td>\n",
       "    </tr>\n",
       "    <tr>\n",
       "      <th>1</th>\n",
       "      <td>/home/cse/phd/anz198717/scratch/suchith_data/d...</td>\n",
       "      <td>a girl in an innertube</td>\n",
       "      <td>[&lt;start&gt;, a, girl, in, an, innertube, &lt;end&gt;]</td>\n",
       "      <td>[10, 9, 28, 12, 26, 0, 11]</td>\n",
       "      <td>val</td>\n",
       "      <td>7</td>\n",
       "    </tr>\n",
       "    <tr>\n",
       "      <th>2</th>\n",
       "      <td>/home/cse/phd/anz198717/scratch/suchith_data/d...</td>\n",
       "      <td>several men in hard hats are</td>\n",
       "      <td>[&lt;start&gt;, several, men, in, hard, hats, are, &lt;...</td>\n",
       "      <td>[10, 77, 27, 12, 238, 210, 22, 11]</td>\n",
       "      <td>train</td>\n",
       "      <td>8</td>\n",
       "    </tr>\n",
       "    <tr>\n",
       "      <th>3</th>\n",
       "      <td>/home/cse/phd/anz198717/scratch/suchith_data/d...</td>\n",
       "      <td>a woman in a brown</td>\n",
       "      <td>[&lt;start&gt;, a, woman, in, a, brown, &lt;end&gt;]</td>\n",
       "      <td>[10, 9, 15, 12, 9, 50, 11]</td>\n",
       "      <td>train</td>\n",
       "      <td>7</td>\n",
       "    </tr>\n",
       "    <tr>\n",
       "      <th>4</th>\n",
       "      <td>/home/cse/phd/anz198717/scratch/suchith_data/d...</td>\n",
       "      <td>a little girl in a</td>\n",
       "      <td>[&lt;start&gt;, a, little, girl, in, a, &lt;end&gt;]</td>\n",
       "      <td>[10, 9, 44, 28, 12, 9, 11]</td>\n",
       "      <td>train</td>\n",
       "      <td>7</td>\n",
       "    </tr>\n",
       "  </tbody>\n",
       "</table>\n",
       "</div>"
      ],
      "text/plain": [
       "                                            filename  \\\n",
       "0  /home/cse/phd/anz198717/scratch/suchith_data/d...   \n",
       "1  /home/cse/phd/anz198717/scratch/suchith_data/d...   \n",
       "2  /home/cse/phd/anz198717/scratch/suchith_data/d...   \n",
       "3  /home/cse/phd/anz198717/scratch/suchith_data/d...   \n",
       "4  /home/cse/phd/anz198717/scratch/suchith_data/d...   \n",
       "\n",
       "                         labels  \\\n",
       "0       two men in green shirts   \n",
       "1        a girl in an innertube   \n",
       "2  several men in hard hats are   \n",
       "3            a woman in a brown   \n",
       "4            a little girl in a   \n",
       "\n",
       "                                              tokens  \\\n",
       "0      [<start>, two, men, in, green, shirts, <end>]   \n",
       "1       [<start>, a, girl, in, an, innertube, <end>]   \n",
       "2  [<start>, several, men, in, hard, hats, are, <...   \n",
       "3           [<start>, a, woman, in, a, brown, <end>]   \n",
       "4           [<start>, a, little, girl, in, a, <end>]   \n",
       "\n",
       "                        numericalized  split  SeqLen  \n",
       "0       [10, 17, 27, 12, 60, 191, 11]  train       7  \n",
       "1          [10, 9, 28, 12, 26, 0, 11]    val       7  \n",
       "2  [10, 77, 27, 12, 238, 210, 22, 11]  train       8  \n",
       "3          [10, 9, 15, 12, 9, 50, 11]  train       7  \n",
       "4          [10, 9, 44, 28, 12, 9, 11]  train       7  "
      ]
     },
     "execution_count": 29,
     "metadata": {},
     "output_type": "execute_result"
    }
   ],
   "source": [
    "metadata.head()"
   ]
  },
  {
   "cell_type": "code",
   "execution_count": 30,
   "metadata": {},
   "outputs": [
    {
     "data": {
      "text/plain": [
       "(50000, 6)"
      ]
     },
     "execution_count": 30,
     "metadata": {},
     "output_type": "execute_result"
    }
   ],
   "source": [
    "metadata.shape"
   ]
  },
  {
   "cell_type": "code",
   "execution_count": 31,
   "metadata": {
    "ExecuteTime": {
     "end_time": "2020-08-03T09:36:18.764862Z",
     "start_time": "2020-08-03T09:36:18.740315Z"
    },
    "init_cell": true
   },
   "outputs": [],
   "source": [
    "# split data in train and valid\n",
    "\"\"\"\n",
    "train_idx = metadata.index[metadata.split == 'train']\n",
    "valid_idx = metadata.index[metadata.split == 'val']\n",
    "\"\"\"\n",
    "pass"
   ]
  },
  {
   "cell_type": "code",
   "execution_count": 32,
   "metadata": {},
   "outputs": [],
   "source": [
    "# small batch of metadata for testing\n",
    "\"\"\"\n",
    "train_idx = train_idx[:100].to_list()\n",
    "valid_idx = valid_idx[:100].to_list()\n",
    "\"\"\"\n",
    "pass"
   ]
  },
  {
   "cell_type": "code",
   "execution_count": 33,
   "metadata": {
    "ExecuteTime": {
     "end_time": "2020-05-06T04:19:11.304029Z",
     "start_time": "2020-05-06T04:19:11.184621Z"
    }
   },
   "outputs": [],
   "source": [
    "\"\"\"\n",
    "metadata = metadata[metadata.index.isin(train_idx+valid_idx)]\n",
    "metadata.reset_index(drop=True, inplace=True)\n",
    "\"\"\"\n",
    "pass"
   ]
  },
  {
   "cell_type": "markdown",
   "metadata": {},
   "source": [
    "### Custom Datasets"
   ]
  },
  {
   "cell_type": "code",
   "execution_count": 34,
   "metadata": {
    "ExecuteTime": {
     "end_time": "2020-08-03T09:36:18.855238Z",
     "start_time": "2020-08-03T09:36:18.765607Z"
    },
    "init_cell": true
   },
   "outputs": [],
   "source": [
    "# define Dataset object that outputs img path, caption, indices of reference captions \n",
    "class ImageCaptionDataset(Dataset):\n",
    "    def __init__(self, data, split = 'train',transform=None):\n",
    "        data = data[data.split == split]\n",
    "        self.filenames = list(data['filename'])\n",
    "        self.captions  = list(data['numericalized'])\n",
    "        self.inds  = data.index.tolist()\n",
    "        self.transform = transform\n",
    "    \n",
    "    def __len__(self):\n",
    "        return len(self.filenames)\n",
    "    \n",
    "    def __getitem__(self, idx):\n",
    "        # Grayscale images in dataset have to be onverted as tensor shapes have to match except in dim=0\n",
    "        image = Image.open(self.filenames[idx]).convert('RGB')\n",
    "        caption = self.captions[idx]\n",
    "        ref_ind = self.inds[idx]\n",
    "\n",
    "        \n",
    "        if self.transform is not None:\n",
    "            image = self.transform(image)\n",
    "        \n",
    "        return (image, caption, ref_ind)"
   ]
  },
  {
   "cell_type": "code",
   "execution_count": 35,
   "metadata": {
    "ExecuteTime": {
     "end_time": "2020-08-03T09:36:18.966635Z",
     "start_time": "2020-08-03T09:36:18.856667Z"
    },
    "init_cell": true
   },
   "outputs": [],
   "source": [
    "# transformation resize img size to 350 px, tensoring, then normalize using image net stats\n",
    "trans = transforms.Compose([\n",
    "    transforms.Resize((350,350)),\n",
    "    transforms.ToTensor()\n",
    "    ,transforms.Normalize([0.485, 0.456, 0.406], [0.229, 0.224, 0.225])])\n",
    "\n",
    "inv_normalize = transforms.Normalize(\n",
    "    mean=[-0.5238/0.3159, -0.5003/0.3091, -0.4718/0.3216],\n",
    "    std=[1/0.3159, 1/0.3091, 1/0.3216]\n",
    ")\n",
    "\n",
    "denorm = transforms.Compose([\n",
    "    inv_normalize,\n",
    "    transforms.functional.to_pil_image\n",
    "])"
   ]
  },
  {
   "cell_type": "code",
   "execution_count": 36,
   "metadata": {
    "ExecuteTime": {
     "end_time": "2020-08-03T09:36:19.075652Z",
     "start_time": "2020-08-03T09:36:18.968640Z"
    },
    "init_cell": true
   },
   "outputs": [],
   "source": [
    "# create Dataset instense for both train set and valid\n",
    "train_dataset = ImageCaptionDataset(metadata,'train',trans)\n",
    "valid_dataset = ImageCaptionDataset(metadata,'val',trans)"
   ]
  },
  {
   "cell_type": "code",
   "execution_count": 37,
   "metadata": {
    "ExecuteTime": {
     "end_time": "2020-04-26T08:39:50.489640Z",
     "start_time": "2020-04-26T08:39:50.288455Z"
    }
   },
   "outputs": [
    {
     "name": "stdout",
     "output_type": "stream",
     "text": [
      "<start> a woman drinks a beer <end>\n",
      "\n"
     ]
    },
    {
     "data": {
      "image/png": "[encoded data removed]",
      "text/plain": [
       "<Figure size 432x288 with 1 Axes>"
      ]
     },
     "metadata": {
      "needs_background": "light"
     },
     "output_type": "display_data"
    }
   ],
   "source": [
    "# check random sample\n",
    "idx = 50\n",
    "d = train_dataset\n",
    "img, cap,ref = d[idx]\n",
    "\n",
    "print(vocab.textify(cap)+'\\n')\n",
    "\n",
    "plt.imshow(denorm(img));"
   ]
  },
  {
   "cell_type": "markdown",
   "metadata": {},
   "source": [
    "## Model Architecture"
   ]
  },
  {
   "cell_type": "code",
   "execution_count": 38,
   "metadata": {
    "ExecuteTime": {
     "end_time": "2020-04-17T12:49:45.159406Z",
     "start_time": "2020-04-17T12:49:45.129261Z"
    },
    "code_folding": [
     0
    ],
    "pixiedust": {
     "displayParams": {}
    }
   },
   "outputs": [],
   "source": [
    "#%%writefile modules/models.py\n",
    "\n",
    "# create a embedding layer\n",
    "def create_emb(embedding_array):\n",
    "    emb = nn.Embedding(len(word_map),embedding_dim)\n",
    "    emb.weight.data = torch.from_numpy(embedding_array)\n",
    "    return emb\n",
    "\n",
    "class Encoder(nn.Module):\n",
    "    def __init__(self,encode_img_size, fine_tune = False):\n",
    "        super(Encoder, self).__init__()\n",
    "        self.enc_imgsize = encode_img_size\n",
    "        resnet = models.resnet101(pretrained=True)\n",
    "        self.encoder = nn.Sequential(*list(resnet.children())[:-2]) # removing final Linear layer\n",
    "        self.adaptive_pool = nn.AdaptiveAvgPool2d((encode_img_size,encode_img_size))\n",
    "        self.fine_tune = fine_tune\n",
    "        self.fine_tune_h()\n",
    "        \n",
    "    def fine_tune_h(self):\n",
    "        \"\"\"\n",
    "        Allow or prevent the computation of gradients for convolutional blocks 2 through 4 of the encoder.\n",
    "        :param fine_tune: Allow?\n",
    "        \"\"\"\n",
    "        for p in self.encoder.parameters():\n",
    "            p.requires_grad = False\n",
    "        \n",
    "        # If fine-tuning, only fine-tune convolutional blocks 2 through 4\n",
    "        for c in list(self.encoder.children())[5:]:\n",
    "            for p in c.parameters():\n",
    "                p.requires_grad = self.fine_tune\n",
    "        \n",
    "    def forward(self,X):\n",
    "        out = self.encoder(X) # X is tensor of size (batch size, 3 (RGB), input height, width)\n",
    "        out = self.adaptive_pool(out) # output (batch_size, 2048, encoded_image_size, encoded_image_size)\n",
    "        out = out.permute(0, 2, 3, 1)\n",
    "        out = out.view(out.size(0), -1, out.size(3))\n",
    "        return out\n",
    "    \n",
    "class Decoder(nn.Module):\n",
    "    def __init__(self,attention_dim, embed_dim, decoder_dim, vocab_size, encoder_dim=2048, dropout=0.5, pretrained_embedding = None,teacher_forcing_ratio = 0):\n",
    "        super(Decoder, self).__init__()\n",
    "        self.attention_dim = attention_dim\n",
    "        self.embed_dim = embed_dim\n",
    "        self.decoder_dim = decoder_dim\n",
    "        self.encoder_dim = encoder_dim\n",
    "        self.vocab_size = vocab_size\n",
    "        self.teacher_forcing_ratio = teacher_forcing_ratio\n",
    "        self.dropout = nn.Dropout(dropout)\n",
    "        self.attention = Attention(encoder_dim, decoder_dim, attention_dim)\n",
    "        self.embedding = nn.Embedding(vocab_size,embed_dim)\n",
    "        self.lstm = nn.LSTM(decoder_dim + encoder_dim, decoder_dim,1, bias=True)\n",
    "        self.init_h = nn.Linear(encoder_dim, decoder_dim)  # linear layer to find initial hidden state of LSTMCell\n",
    "        self.init_c = nn.Linear(encoder_dim, decoder_dim)  # linear layer to find initial cell state of LSTMCell\n",
    "        self.f_beta = nn.Linear(decoder_dim, encoder_dim)  # gate\n",
    "        self.pretrained_embedding = pretrained_embedding\n",
    "        self.sigmoid = nn.Sigmoid()\n",
    "        self.fc = nn.Linear(decoder_dim, vocab_size)  # linear layer to find scores over vocabulary\n",
    "        self.emb2dec_dim = nn.Linear(embed_dim, decoder_dim) # embed dim to decoder dim\n",
    "        self.pretrained()\n",
    "        \n",
    "    def pretrained(self):\n",
    "        if self.pretrained_embedding is not None:\n",
    "            self.embedding.weight.data = torch.from_numpy(self.pretrained_embedding)\n",
    "            \n",
    "    def init_hidden_state(self, encoder_out):\n",
    "        \n",
    "        mean_encoder_out = encoder_out.mean(dim=1)\n",
    "        h = self.init_h(mean_encoder_out)  # (batch_size, decoder_dim)\n",
    "        c = self.init_c(mean_encoder_out)\n",
    "        return h.unsqueeze(0), c.unsqueeze(0)\n",
    "            \n",
    "    def forward(self,encoder_out, encoded_captions,decode_lengths,inds):\n",
    "        batch_size = encoder_out.size(0)\n",
    "        encoder_dim = encoder_out.size(-1)\n",
    "        vocab_size = self.vocab_size\n",
    "        num_pixels = encoder_out.size(1)\n",
    "        embeddings = self.embedding(encoded_captions)\n",
    "        \n",
    "        ## initililize hidden encoding\n",
    "        h, c = self.init_hidden_state(encoder_out)\n",
    "        dec_out = torch.zeros(1,batch_size,decoder_dim).to(device)\n",
    "        \n",
    "        \n",
    "        \n",
    "        decode_lengths = decode_lengths - 1\n",
    "        \n",
    "        max_len = max(decode_lengths).item()\n",
    "        # Create tensors to hold word predicion scores and alphas\n",
    "        predictions = torch.zeros(batch_size, max_len, vocab_size)\n",
    "        alphas = torch.zeros(batch_size, max_len, num_pixels)\n",
    "        \n",
    "        for t in range(max_len):\n",
    "            batch_size_t = sum([l.item() > t for l in decode_lengths])\n",
    "            attention_weighted_encoding, alpha = self.attention(encoder_out[:batch_size_t],\n",
    "                                                                h.squeeze(0)[:batch_size_t])\n",
    "            gate = self.sigmoid(self.f_beta(h.squeeze(0)[:batch_size_t]))  # gating scalar, (batch_size_t, encoder_dim)\n",
    "            attention_weighted_encoding = gate * attention_weighted_encoding\n",
    "            \n",
    "            # teacher forcing \n",
    "            use_teacher_forcing = True if random.random() < self.teacher_forcing_ratio else False\n",
    "            emb_ff = self.emb2dec_dim(embeddings[:batch_size_t, t, :])\n",
    "            inp_emb = emb_ff if (use_teacher_forcing or t==0) else dec_out.squeeze(0)[:batch_size_t]\n",
    "            \n",
    "            \n",
    "            dec_out,(h, c) = self.lstm(\n",
    "                torch.cat([inp_emb, attention_weighted_encoding], dim=1).unsqueeze(0),\n",
    "                (h[:,:batch_size_t], c[:,:batch_size_t]))  # (batch_size_t, decoder_dim)\n",
    "            preds = self.fc(self.dropout(dec_out.squeeze(0)))  # (batch_size_t, vocab_size)\n",
    "            predictions[:batch_size_t,t , :] = preds\n",
    "            alphas[:batch_size_t, t, :] = alpha\n",
    "        return F.log_softmax(predictions, dim=1),decode_lengths, alphas, inds\n",
    "        \n",
    "class Attention(nn.Module):\n",
    "    def __init__(self, encoder_dim, decoder_dim, attention_dim):\n",
    "        super(Attention, self).__init__()\n",
    "        self.enc_att = nn.Linear(encoder_dim,attention_dim)\n",
    "        self.dec_att = nn.Linear(decoder_dim,attention_dim)\n",
    "        self.att = nn.Linear(attention_dim,1)\n",
    "        self.relu = nn.ReLU()\n",
    "        self.softmax = nn.Softmax(dim=1)\n",
    "        \n",
    "    def forward(self,encoder_out, decoder_hidden):\n",
    "        encoder_att = self.enc_att(encoder_out)\n",
    "        decoder_att = self.dec_att(decoder_hidden)\n",
    "        att = self.att(self.relu(encoder_att + decoder_att.unsqueeze(1))).squeeze(2) #testing added batchnorm \n",
    "        alpha = self.softmax(att)\n",
    "        attention_weighted_encoding = (encoder_out*alpha.unsqueeze(2)).sum(dim=1)\n",
    "        \n",
    "        return attention_weighted_encoding, alpha\n",
    "        "
   ]
  },
  {
   "cell_type": "markdown",
   "metadata": {},
   "source": [
    "## DataLoaders  preparations"
   ]
  },
  {
   "cell_type": "markdown",
   "metadata": {},
   "source": [
    "### Custom collate function"
   ]
  },
  {
   "cell_type": "markdown",
   "metadata": {},
   "source": [
    "create a collate funtion with inputs bacth of imgs, caption pairs and sorts them by caption length in descending order"
   ]
  },
  {
   "cell_type": "code",
   "execution_count": 39,
   "metadata": {
    "ExecuteTime": {
     "end_time": "2020-08-03T09:36:19.133445Z",
     "start_time": "2020-08-03T09:36:19.076753Z"
    },
    "init_cell": true
   },
   "outputs": [],
   "source": [
    "\n",
    "from functools import partial\n",
    "def pad_collate_ImgCap(samples, pad_idx = 0, pad_first:bool=True, backwards:bool=False, transpose:bool=False, device = device):\n",
    "    \"Function that collect samples and adds padding. Flips token order if needed\"\n",
    "    images, captions, ref_ind = zip(*samples)\n",
    "    max_len_cap = max([len(c) for c in captions])\n",
    "    decode_lengths = torch.tensor([len(c) for c in captions])\n",
    "    res_cap = torch.zeros(len(samples), max_len_cap).long() + pad_idx\n",
    "    ref_ind = torch.tensor(ref_ind)\n",
    "    \n",
    "    if backwards: pad_first = not pad_first\n",
    "    for i,c in enumerate(captions):\n",
    "        if pad_first: \n",
    "            res_cap[i,-len(c):] = LongTensor(c)\n",
    "        else:         \n",
    "            res_cap[i,:len(c)] = LongTensor(c)\n",
    "    \n",
    "    if backwards:\n",
    "        cap = cap.flip(1)\n",
    "    if transpose:\n",
    "        res_cap.transpose_(0,1)\n",
    "    \n",
    "    images = torch.stack(images, 0, out=None)\n",
    "    \n",
    "    # Sort input data by decreasing lengths; why? apparent below\n",
    "    decode_lengths, sort_ind = decode_lengths.sort(dim=0, descending=True)\n",
    "    #set_trace()\n",
    "    \n",
    "    images = images[sort_ind].to(device)\n",
    "    res_cap = res_cap[sort_ind].to(device)\n",
    "    ref_ind = ref_ind[sort_ind].to(device)\n",
    "    decode_lengths = decode_lengths.to(device)\n",
    "    \n",
    "    \n",
    "    return (images, res_cap, decode_lengths,ref_ind), res_cap[:, 1:]"
   ]
  },
  {
   "cell_type": "code",
   "execution_count": 40,
   "metadata": {
    "ExecuteTime": {
     "end_time": "2020-08-03T09:36:19.249842Z",
     "start_time": "2020-08-03T09:36:19.134470Z"
    },
    "init_cell": true
   },
   "outputs": [],
   "source": [
    "imgcap_collate_func = partial(pad_collate_ImgCap, pad_idx=0, pad_first=False, transpose=False)"
   ]
  },
  {
   "cell_type": "code",
   "execution_count": 41,
   "metadata": {
    "ExecuteTime": {
     "end_time": "2020-08-03T09:36:19.332100Z",
     "start_time": "2020-08-03T09:36:19.251079Z"
    },
    "init_cell": true
   },
   "outputs": [],
   "source": [
    "bs=4"
   ]
  },
  {
   "cell_type": "markdown",
   "metadata": {},
   "source": [
    "### Create databunch with transformations"
   ]
  },
  {
   "cell_type": "code",
   "execution_count": 42,
   "metadata": {
    "ExecuteTime": {
     "end_time": "2020-08-03T09:36:19.432520Z",
     "start_time": "2020-08-03T09:36:19.333235Z"
    },
    "init_cell": true
   },
   "outputs": [],
   "source": [
    "### train and validation dataloaders\n",
    "train_sam = list(metadata.loc[metadata.split == 'train','numericalized'])\n",
    "val_sam = list(metadata.loc[metadata.split == 'val','numericalized'])\n",
    "\n",
    "### define Sampler for smapling bacthes for sorted pairs \n",
    "val_sampler = SortSampler(val_sam, key=lambda x: len(val_sam[x]))\n",
    "trn_sampler = SortishSampler(train_sam, key=lambda x: len(train_sam[x]), bs=bs)\n",
    "\n",
    "### define data loaders for loading inputs batches into network\n",
    "val_dl = DataLoader(dataset=valid_dataset, batch_size=bs, sampler=val_sampler, collate_fn=imgcap_collate_func,pin_memory=False)\n",
    "trn_dl = DataLoader(dataset=train_dataset, batch_size=bs, sampler=trn_sampler, collate_fn=imgcap_collate_func,pin_memory=False)\n",
    "\n",
    "\n",
    "# transformations \n",
    "tfms = get_transforms(flip_vert=False, max_lighting=0.1, max_zoom=1.05, max_warp=0.)\n",
    "\n",
    "# fastai databunch object \n",
    "dataBunch = DataBunch(train_dl=trn_dl, valid_dl=val_dl ,device=device,collate_fn=imgcap_collate_func)"
   ]
  },
  {
   "cell_type": "code",
   "execution_count": 43,
   "metadata": {
    "ExecuteTime": {
     "end_time": "2020-04-26T08:40:22.675739Z",
     "start_time": "2020-04-26T08:40:22.639429Z"
    }
   },
   "outputs": [
    {
     "data": {
      "text/plain": [
       "(tensor([[[ 0.5878,  1.5125,  1.4612,  ...,  2.0605,  1.8379,  1.9064],\n",
       "          [ 1.9920,  1.8208,  0.7248,  ...,  1.9235,  2.2147,  2.1633],\n",
       "          [ 1.9578,  1.8722,  1.8550,  ...,  1.7694,  1.9064,  1.9578],\n",
       "          ...,\n",
       "          [-1.0390, -1.3987, -1.6042,  ..., -0.5424, -0.7137, -1.1418],\n",
       "          [-1.0390, -0.8507, -0.7308,  ...,  0.1597, -0.6281,  0.3309],\n",
       "          [ 0.9303, -0.3369, -0.6623,  ...,  2.1290,  1.7352,  1.6838]],\n",
       " \n",
       "         [[ 0.5728,  1.5182,  1.4482,  ...,  2.2185,  1.9734,  2.0434],\n",
       "          [ 2.0434,  1.8683,  0.7129,  ...,  2.0434,  2.3761,  2.3235],\n",
       "          [ 2.0259,  1.9559,  1.9034,  ...,  1.8683,  2.0084,  2.0609],\n",
       "          ...,\n",
       "          [-0.8803, -1.3704, -1.6856,  ..., -0.6527, -0.8277, -1.2654],\n",
       "          [-0.7752, -0.7402, -0.7927,  ...,  0.0651, -0.7402,  0.2402],\n",
       "          [ 1.2381, -0.1975, -0.7227,  ...,  2.1310,  1.7283,  1.6758]],\n",
       " \n",
       "         [[ 0.6879,  1.6465,  1.5594,  ...,  2.2217,  1.9777,  2.0125],\n",
       "          [ 2.0997,  1.9254,  0.7751,  ...,  2.0648,  2.3786,  2.3088],\n",
       "          [ 2.0125,  1.9428,  1.8905,  ...,  1.9254,  2.0300,  2.0648],\n",
       "          ...,\n",
       "          [-0.6018, -1.1944, -1.5604,  ..., -0.5147, -0.6890, -1.1247],\n",
       "          [-0.4275, -0.5321, -0.8110,  ...,  0.2348, -0.5844,  0.3916],\n",
       "          [ 1.5768,  0.0082, -0.7587,  ...,  2.2391,  1.8034,  1.7511]]]),\n",
       " [10, 9, 28, 12, 26, 0, 11],\n",
       " 1)"
      ]
     },
     "execution_count": 43,
     "metadata": {},
     "output_type": "execute_result"
    }
   ],
   "source": [
    "dataBunch.valid_ds[0]"
   ]
  },
  {
   "cell_type": "code",
   "execution_count": 44,
   "metadata": {
    "ExecuteTime": {
     "end_time": "2020-04-26T08:17:54.812867Z",
     "start_time": "2020-04-26T08:17:54.640511Z"
    }
   },
   "outputs": [
    {
     "name": "stdout",
     "output_type": "stream",
     "text": [
      "<start> the two man are dancing <end>\n"
     ]
    },
    {
     "data": {
      "image/png": "[encoded data removed]",
      "text/plain": [
       "<Figure size 432x288 with 1 Axes>"
      ]
     },
     "metadata": {
      "needs_background": "light"
     },
     "output_type": "display_data"
    }
   ],
   "source": [
    "# visualize sample \n",
    "idx = 100\n",
    "d = dataBunch.valid_ds\n",
    "img, cap,_ = d[-1]\n",
    "\n",
    "print(vocab.textify(cap))\n",
    "plt.imshow(denorm(img));"
   ]
  },
  {
   "cell_type": "markdown",
   "metadata": {},
   "source": [
    "## Model Intialization"
   ]
  },
  {
   "cell_type": "markdown",
   "metadata": {},
   "source": [
    "### User inputs"
   ]
  },
  {
   "cell_type": "markdown",
   "metadata": {
    "ExecuteTime": {
     "end_time": "2020-08-02T08:45:34.526312Z",
     "start_time": "2020-08-02T08:45:34.524201Z"
    }
   },
   "source": [
    "Set Model configuartion "
   ]
  },
  {
   "cell_type": "code",
   "execution_count": 45,
   "metadata": {},
   "outputs": [],
   "source": [
    "import fasttext as ft"
   ]
  },
  {
   "cell_type": "code",
   "execution_count": 46,
   "metadata": {},
   "outputs": [],
   "source": [
    "# ****************** USER INPUTS *****************\n",
    "\"\"\"\n",
    "data_folder = 'flicker8k-dataset/'\n",
    "data_name = 'Vocab_5_cap_per_img_2_min_word_freq'\n",
    "wordemb_pkl_path = 'flicker8k-dataset/Fastext_embedd_wordMap.pkl' # path to word embedding Fasttext: 'Fastext_embedd_wordMap.pkl'\n",
    "\"\"\"\n",
    "pass"
   ]
  },
  {
   "cell_type": "code",
   "execution_count": 47,
   "metadata": {},
   "outputs": [
    {
     "name": "stderr",
     "output_type": "stream",
     "text": [
      "Warning : `load_model` does not return WordVectorModel or SupervisedModel any more, but a `FastText` object which is very similar.\n"
     ]
    }
   ],
   "source": [
    "en_vecs = ft.load_model(str(path/'models/wiki.en.bin'))\n",
    "vec_dict = {w : en_vecs.get_word_vector(w) for w in en_vecs.get_words()}"
   ]
  },
  {
   "cell_type": "code",
   "execution_count": 48,
   "metadata": {},
   "outputs": [],
   "source": [
    "embedding = np.stack(list(vec_dict.values()))"
   ]
  },
  {
   "cell_type": "code",
   "execution_count": 49,
   "metadata": {},
   "outputs": [],
   "source": [
    "\"\"\"\n",
    "with open(data_dump/'embeddings.pkl', 'wb') as file:\n",
    "    pickle.dump(embedding, file)\n",
    "\"\"\"\n",
    "pass"
   ]
  },
  {
   "cell_type": "code",
   "execution_count": 50,
   "metadata": {},
   "outputs": [],
   "source": [
    "with open(data_dump/'embeddings.pkl', 'rb') as file:\n",
    "    embedding = pickle.load(file)"
   ]
  },
  {
   "cell_type": "code",
   "execution_count": 51,
   "metadata": {
    "ExecuteTime": {
     "end_time": "2020-08-03T09:36:20.029100Z",
     "start_time": "2020-08-03T09:36:19.433401Z"
    },
    "code_folding": [],
    "init_cell": true
   },
   "outputs": [],
   "source": [
    "trainWithEmb = True\n",
    "emb_dim = 300   # 300: pretrined words embedd GLove \n",
    "attention_dim = 512 # encoder_dim tranformed to attention_dim\n",
    "decoder_dim = 512  #  word_emb_dim tranformed to decoder_dim\n",
    "dropout = 0.5\n",
    "encoder_dim = 2048 #512 for resnet34 and 2048 for resnet 101 \n",
    "#cudnn.benchmark = True\n",
    "vocab_size = len(vec_dict)\n",
    "fine_tune_encoder = True\n",
    "criterion = nn.CrossEntropyLoss().to(device)\n",
    "\n",
    "# load word embeddings\n",
    "#with open(wordemb_pkl_path,'rb') as f:\n",
    "#    embedding = pickle.load(f)\n",
    "#    embedding[4021:] = np.random.normal(embedding.mean(),embedding.std(),(4, 300))"
   ]
  },
  {
   "cell_type": "markdown",
   "metadata": {},
   "source": [
    "## Model Architectures"
   ]
  },
  {
   "cell_type": "markdown",
   "metadata": {},
   "source": [
    "### Model initialization"
   ]
  },
  {
   "cell_type": "code",
   "execution_count": 52,
   "metadata": {
    "ExecuteTime": {
     "end_time": "2020-08-03T09:36:20.805691Z",
     "start_time": "2020-08-03T09:36:20.030042Z"
    },
    "code_folding": [],
    "init_cell": true,
    "pixiedust": {
     "displayParams": {}
    }
   },
   "outputs": [],
   "source": [
    "from modules.model import *\n",
    "###########   Layer Initializations ##########\n",
    "# testing initiation\n",
    "enc = Encoder(14,fine_tune=False)\n",
    "dec = Decoder(attention_dim, \n",
    "              emb_dim, \n",
    "              decoder_dim, \n",
    "              vocab_size, \n",
    "              encoder_dim=encoder_dim, \n",
    "              dropout=0.5, \n",
    "              pretrained_embedding = embedding,teacher_forcing_ratio=1)\n",
    "\n",
    "\n",
    "# Models Ensemble \n",
    "class Ensemble(nn.Module):\n",
    "    def __init__(self,encoder, decoder):\n",
    "        super(Ensemble, self).__init__()\n",
    "        self.encoder = encoder\n",
    "        self.decoder = decoder\n",
    "    def forward(self,x1,caps,decode_lengths,inds): # you need flatten in between\n",
    "        imgs = self.encoder(x1) # here input x1 is Images: output (batch_size, encoded_image_size, encoded_image_size, 2048)\n",
    "        scores,decode_lengths,alphas, inds  = self.decoder(imgs, caps,decode_lengths,inds) #caps_sorted, decode_lengths, alphas, sort_ind\n",
    "        return scores,decode_lengths, alphas, inds\n",
    "\n",
    "# Testing\n",
    "criterion = nn.CrossEntropyLoss().to(device)\n",
    "enc = enc.to(device)\n",
    "dec = dec.to(device)\n",
    "arch = Ensemble(enc, dec).to(device)"
   ]
  },
  {
   "cell_type": "code",
   "execution_count": 53,
   "metadata": {
    "code_folding": [
     0
    ]
   },
   "outputs": [],
   "source": [
    "def eval(img):\n",
    "    encoder_out = self.model.encoder(img)\n",
    "\n",
    "    num_pixels = encoder_out.size(1)\n",
    "    encoder_out = encoder_out.expand(3, num_pixels, encoder_dim)\n",
    "\n",
    "\n",
    "    # Tensor to store top k previous words at each step; now they're just 0\n",
    "    k_prev_words = torch.LongTensor([[0]] * k).to(device)  # (k, 1)\n",
    "\n",
    "    # Tensor to store top k sequences; now they're just <start>\n",
    "    seqs = k_prev_words  # (k, 1)\n",
    "\n",
    "    # Tensor to store top k sequences' scores; now they're just 0\n",
    "    top_k_scores = torch.zeros(k, 1).to(device)  # (k, 1)\n",
    "\n",
    "\n",
    "    #dec_inp = torch.zeros(h.size(1), requires_grad=False).long()\n",
    "    #dec_inp = dec_inp.to(self.device)\n",
    "\n",
    "    complete_seqs = list()\n",
    "    complete_seqs_scores = list()\n",
    "\n",
    "    step = 1\n",
    "\n",
    "    h,c = self.model.decoder.init_hidden_state(encoder_out)\n",
    "\n",
    "    a = True\n",
    "    while True:\n",
    "        k_prev_words = torch.LongTensor([[0]] * 3).to(device)\n",
    "        embeddings = self.model.decoder.embedding(k_prev_words).squeeze(1)\n",
    "        awe, _ = self.model.decoder.attention(encoder_out, h)\n",
    "        gate = self.model.decoder.sigmoid(self.model.decoder.f_beta(h))\n",
    "        awe = gate * awe\n",
    "        h, c = self.model.decoder.lstm(torch.cat([embeddings, awe], dim=1), (h, c))\n",
    "\n",
    "        scores = self.model.decoder.fc(h)  # (s, vocab_size)\n",
    "        scores = F.log_softmax(scores, dim=1)\n",
    "        top_k_scores = torch.zeros(k, 1).to(device)  # (k, 1)\n",
    "        scores = top_k_scores.expand_as(scores) + scores\n",
    "        if step == 1:\n",
    "            top_k_scores, top_k_words = scores[0].topk(k, 0, True, True)\n",
    "        else:\n",
    "            # Unroll and find top scores, and their unrolled indices\n",
    "            top_k_scores, top_k_words = scores.view(-1).topk(k, 0, True, True)  # (s)\n",
    "\n",
    "\n",
    "\n",
    "        # Convert unrolled indices to actual indices of scores\n",
    "        prev_word_inds = top_k_words / vocab_size  # (s)\n",
    "        next_word_inds = top_k_words % vocab_size  # (s)\n",
    "\n",
    "        seqs = torch.cat([seqs[prev_word_inds], next_word_inds.unsqueeze(1)], dim=1)\n",
    "\n",
    "\n",
    "        # If any sequence is not complete\n",
    "        incomplete_inds = [ind for ind, next_word in enumerate(next_word_inds) if\n",
    "                                       next_word != pad_idx]\n",
    "        complete_inds = list(set(range(len(next_word_inds))) - set(incomplete_inds))\n",
    "\n",
    "        # if at step any of seq completes we store complete_seqs and proceeds with\n",
    "        # remaining k - len(complete_seqs) incomplete seqs \n",
    "\n",
    "        if len(complete_inds) > 0:\n",
    "            complete_seqs.extend(seqs[complete_inds].tolist())\n",
    "            complete_seqs_scores.extend(top_k_scores[complete_inds])\n",
    "        k -= len(complete_inds)  # reduce beam length accordingly\n",
    "\n",
    "        if k == 0:\n",
    "            break\n",
    "\n",
    "        seqs = seqs[incomplete_inds]\n",
    "        h = h[prev_word_inds[incomplete_inds]]\n",
    "        c = c[prev_word_inds[incomplete_inds]]\n",
    "\n",
    "        encoder_out = encoder_out[prev_word_inds[incomplete_inds]]\n",
    "        top_k_scores = top_k_scores[incomplete_inds].unsqueeze(1)\n",
    "        k_prev_words = next_word_inds[incomplete_inds].unsqueeze(1)\n",
    "\n",
    "        # Break if things have been going on too long\n",
    "        if step > 50:\n",
    "            break\n",
    "        step += 1"
   ]
  },
  {
   "cell_type": "markdown",
   "metadata": {
    "ExecuteTime": {
     "end_time": "2020-04-11T03:27:28.795304Z",
     "start_time": "2020-04-11T03:27:28.775530Z"
    }
   },
   "source": [
    "### Callback handler"
   ]
  },
  {
   "cell_type": "markdown",
   "metadata": {},
   "source": [
    "Defining Callbacks"
   ]
  },
  {
   "cell_type": "code",
   "execution_count": 54,
   "metadata": {
    "ExecuteTime": {
     "end_time": "2020-04-17T12:53:03.048676Z",
     "start_time": "2020-04-17T12:53:03.017684Z"
    },
    "code_folding": [
     0
    ]
   },
   "outputs": [
    {
     "name": "stdout",
     "output_type": "stream",
     "text": [
      "Overwriting custom_callbacks.py\n"
     ]
    }
   ],
   "source": [
    "%%writefile custom_callbacks.py\n",
    "\n",
    "class TeacherForcingCallback(Callback):\n",
    "    def __init__(self, learn:Learner, decay_epochs=3):\n",
    "        super().__init__()\n",
    "        self.learn = learn\n",
    "        self.decay_iterations = decay_epochs * len(self.learn.data.train_ds) // self.learn.data.batch_size\n",
    "    \n",
    "    def on_batch_begin(self, iteration,**kwargs):\n",
    "        self.learn.model.decoder.teacher_forcing_ratio = (self.decay_iterations-iteration) * 1/self.decay_iterations if iteration < self.decay_iterations else 0\n",
    "        \n",
    "    def on_batch_end(self,**kwargs):\n",
    "        self.learn.model.decoder.teacher_forcing_ratio = 0.\n",
    "\n",
    "class GradientClipping(LearnerCallback):\n",
    "    \"Gradient clipping during training.\"\n",
    "    def __init__(self, learn:Learner, clip:float = 0.3):\n",
    "        super().__init__(learn)\n",
    "        self.clip = clip\n",
    "\n",
    "    def on_backward_end(self, **kwargs):\n",
    "        \"Clip the gradient before the optimizer step.\"\n",
    "        if self.clip: nn.utils.clip_grad_norm_(self.learn.model.parameters(), self.clip)\n",
    "\n",
    "        \n",
    "\n",
    "class BleuMetric(Callback):\n",
    "    def on_epoch_begin(self, **kwargs):\n",
    "        self.references = list()\n",
    "        self.candidates = list()\n",
    "        \n",
    "    def on_batch_end(self, last_output, last_target, **kwargs):\n",
    "        pred, decode_lengths,_,inds = last_output\n",
    "        references = metadata.references[metadata.index.isin(inds.tolist())]\n",
    "        _,pred_words = pred.max(dim=-1)\n",
    "        vocab_i2s = dict(zip(vocab.values(),vocab.keys()))\n",
    "        hypotheses = list()\n",
    "        for cap in pred_words: hypotheses.append([vocab_i2s[x] for x in cap.tolist() if x not in \n",
    "                               {vocab['<start>'], vocab['<end>'], vocab['<pad>']}])\n",
    "        self.references.extend(references)\n",
    "        self.candidates.extend(hypotheses)\n",
    "\n",
    "        \n",
    "    def on_epoch_end(self, last_metrics, **kwargs):\n",
    "        assert len(self.references) == len(self.candidates)\n",
    "        return add_metrics(last_metrics, corpus_bleu(self.references, self.candidates, weights=(0.5,0.5,0.5,0.5)))"
   ]
  },
  {
   "cell_type": "markdown",
   "metadata": {},
   "source": [
    "### Learner create Object"
   ]
  },
  {
   "cell_type": "code",
   "execution_count": 55,
   "metadata": {
    "ExecuteTime": {
     "end_time": "2020-08-03T09:36:20.851017Z",
     "start_time": "2020-08-03T09:36:20.806522Z"
    },
    "init_cell": true
   },
   "outputs": [
    {
     "data": {
      "text/plain": [
       "2"
      ]
     },
     "execution_count": 55,
     "metadata": {},
     "output_type": "execute_result"
    }
   ],
   "source": [
    "#from modules.metrics import beam_search\n",
    "\n",
    "opt_fn = partial(optim.Adam, betas=(0.8, 0.99))\n",
    "\n",
    "\n",
    "# metrics functions\n",
    "loss_func = partial(loss_func, lamb = 1)\n",
    "#BleuMetric(metadata,vocab)\n",
    "#beam_fn = partial(beam_search,beam_size = 5)\n",
    "\n",
    "learn = Learner(dataBunch,arch,loss_func= loss_func,opt_func=opt_fn, metrics=[topK_accuracy,BleuMetric(metadata,vocab)],callback_fns=[ShowGraph]) #,TeacherForcingTurnOff,TeacherForcingCallback\n",
    "\n",
    "# split model into encoder and decoder layer groups\n",
    "split_list = [learn.model.encoder,learn.model.decoder]\n",
    "learn.split(split_list)\n",
    "len(learn.layer_groups)"
   ]
  },
  {
   "cell_type": "code",
   "execution_count": 56,
   "metadata": {
    "ExecuteTime": {
     "end_time": "2020-05-07T14:05:17.466875Z",
     "start_time": "2020-05-07T14:05:17.379554Z"
    },
    "code_folding": [
     0
    ]
   },
   "outputs": [
    {
     "name": "stdout",
     "output_type": "stream",
     "text": [
      "Module Name                                                                           Total Parameters  Trainable Parameters # Elements in Trainable Parametrs       \n",
      "Conv2d(3, 64, kernel_size=(7, 7), stride=(2, 2), padding=(3, 3), bias=False)          1                 0                    0                                       \n",
      "BatchNorm2d(64, eps=1e-05, momentum=0.1, affine=True, track_running_stats=True)       2                 0                    0                                       \n",
      "ReLU(inplace=True)                                                                    0                 0                    0                                       \n",
      "MaxPool2d(kernel_size=3, stride=2, padding=1, dilation=1, ceil_mode=False)            0                 0                    0                                       \n",
      "Conv2d(64, 64, kernel_size=(1, 1), stride=(1, 1), bias=False)                         1                 0                    0                                       \n",
      "BatchNorm2d(64, eps=1e-05, momentum=0.1, affine=True, track_running_stats=True)       2                 0                    0                                       \n",
      "Conv2d(64, 64, kernel_size=(3, 3), stride=(1, 1), padding=(1, 1), bias=False)         1                 0                    0                                       \n",
      "BatchNorm2d(64, eps=1e-05, momentum=0.1, affine=True, track_running_stats=True)       2                 0                    0                                       \n",
      "Conv2d(64, 256, kernel_size=(1, 1), stride=(1, 1), bias=False)                        1                 0                    0                                       \n",
      "BatchNorm2d(256, eps=1e-05, momentum=0.1, affine=True, track_running_stats=True)      2                 0                    0                                       \n",
      "ReLU(inplace=True)                                                                    0                 0                    0                                       \n",
      "Conv2d(64, 256, kernel_size=(1, 1), stride=(1, 1), bias=False)                        1                 0                    0                                       \n",
      "BatchNorm2d(256, eps=1e-05, momentum=0.1, affine=True, track_running_stats=True)      2                 0                    0                                       \n",
      "Conv2d(256, 64, kernel_size=(1, 1), stride=(1, 1), bias=False)                        1                 0                    0                                       \n",
      "BatchNorm2d(64, eps=1e-05, momentum=0.1, affine=True, track_running_stats=True)       2                 0                    0                                       \n",
      "Conv2d(64, 64, kernel_size=(3, 3), stride=(1, 1), padding=(1, 1), bias=False)         1                 0                    0                                       \n",
      "BatchNorm2d(64, eps=1e-05, momentum=0.1, affine=True, track_running_stats=True)       2                 0                    0                                       \n",
      "Conv2d(64, 256, kernel_size=(1, 1), stride=(1, 1), bias=False)                        1                 0                    0                                       \n",
      "BatchNorm2d(256, eps=1e-05, momentum=0.1, affine=True, track_running_stats=True)      2                 0                    0                                       \n",
      "ReLU(inplace=True)                                                                    0                 0                    0                                       \n",
      "Conv2d(256, 64, kernel_size=(1, 1), stride=(1, 1), bias=False)                        1                 0                    0                                       \n",
      "BatchNorm2d(64, eps=1e-05, momentum=0.1, affine=True, track_running_stats=True)       2                 0                    0                                       \n",
      "Conv2d(64, 64, kernel_size=(3, 3), stride=(1, 1), padding=(1, 1), bias=False)         1                 0                    0                                       \n",
      "BatchNorm2d(64, eps=1e-05, momentum=0.1, affine=True, track_running_stats=True)       2                 0                    0                                       \n",
      "Conv2d(64, 256, kernel_size=(1, 1), stride=(1, 1), bias=False)                        1                 0                    0                                       \n",
      "BatchNorm2d(256, eps=1e-05, momentum=0.1, affine=True, track_running_stats=True)      2                 0                    0                                       \n",
      "ReLU(inplace=True)                                                                    0                 0                    0                                       \n",
      "Conv2d(256, 128, kernel_size=(1, 1), stride=(1, 1), bias=False)                       1                 0                    0                                       \n",
      "BatchNorm2d(128, eps=1e-05, momentum=0.1, affine=True, track_running_stats=True)      2                 0                    0                                       \n",
      "Conv2d(128, 128, kernel_size=(3, 3), stride=(2, 2), padding=(1, 1), bias=False)       1                 0                    0                                       \n",
      "BatchNorm2d(128, eps=1e-05, momentum=0.1, affine=True, track_running_stats=True)      2                 0                    0                                       \n",
      "Conv2d(128, 512, kernel_size=(1, 1), stride=(1, 1), bias=False)                       1                 0                    0                                       \n",
      "BatchNorm2d(512, eps=1e-05, momentum=0.1, affine=True, track_running_stats=True)      2                 0                    0                                       \n",
      "ReLU(inplace=True)                                                                    0                 0                    0                                       \n",
      "Conv2d(256, 512, kernel_size=(1, 1), stride=(2, 2), bias=False)                       1                 0                    0                                       \n",
      "BatchNorm2d(512, eps=1e-05, momentum=0.1, affine=True, track_running_stats=True)      2                 0                    0                                       \n",
      "Conv2d(512, 128, kernel_size=(1, 1), stride=(1, 1), bias=False)                       1                 0                    0                                       \n",
      "BatchNorm2d(128, eps=1e-05, momentum=0.1, affine=True, track_running_stats=True)      2                 0                    0                                       \n",
      "Conv2d(128, 128, kernel_size=(3, 3), stride=(1, 1), padding=(1, 1), bias=False)       1                 0                    0                                       \n",
      "BatchNorm2d(128, eps=1e-05, momentum=0.1, affine=True, track_running_stats=True)      2                 0                    0                                       \n",
      "Conv2d(128, 512, kernel_size=(1, 1), stride=(1, 1), bias=False)                       1                 0                    0                                       \n",
      "BatchNorm2d(512, eps=1e-05, momentum=0.1, affine=True, track_running_stats=True)      2                 0                    0                                       \n",
      "ReLU(inplace=True)                                                                    0                 0                    0                                       \n",
      "Conv2d(512, 128, kernel_size=(1, 1), stride=(1, 1), bias=False)                       1                 0                    0                                       \n",
      "BatchNorm2d(128, eps=1e-05, momentum=0.1, affine=True, track_running_stats=True)      2                 0                    0                                       \n",
      "Conv2d(128, 128, kernel_size=(3, 3), stride=(1, 1), padding=(1, 1), bias=False)       1                 0                    0                                       \n",
      "BatchNorm2d(128, eps=1e-05, momentum=0.1, affine=True, track_running_stats=True)      2                 0                    0                                       \n",
      "Conv2d(128, 512, kernel_size=(1, 1), stride=(1, 1), bias=False)                       1                 0                    0                                       \n",
      "BatchNorm2d(512, eps=1e-05, momentum=0.1, affine=True, track_running_stats=True)      2                 0                    0                                       \n",
      "ReLU(inplace=True)                                                                    0                 0                    0                                       \n",
      "Conv2d(512, 128, kernel_size=(1, 1), stride=(1, 1), bias=False)                       1                 0                    0                                       \n",
      "BatchNorm2d(128, eps=1e-05, momentum=0.1, affine=True, track_running_stats=True)      2                 0                    0                                       \n",
      "Conv2d(128, 128, kernel_size=(3, 3), stride=(1, 1), padding=(1, 1), bias=False)       1                 0                    0                                       \n",
      "BatchNorm2d(128, eps=1e-05, momentum=0.1, affine=True, track_running_stats=True)      2                 0                    0                                       \n",
      "Conv2d(128, 512, kernel_size=(1, 1), stride=(1, 1), bias=False)                       1                 0                    0                                       \n",
      "BatchNorm2d(512, eps=1e-05, momentum=0.1, affine=True, track_running_stats=True)      2                 0                    0                                       \n",
      "ReLU(inplace=True)                                                                    0                 0                    0                                       \n",
      "Conv2d(512, 256, kernel_size=(1, 1), stride=(1, 1), bias=False)                       1                 0                    0                                       \n",
      "BatchNorm2d(256, eps=1e-05, momentum=0.1, affine=True, track_running_stats=True)      2                 0                    0                                       \n",
      "Conv2d(256, 256, kernel_size=(3, 3), stride=(2, 2), padding=(1, 1), bias=False)       1                 0                    0                                       \n",
      "BatchNorm2d(256, eps=1e-05, momentum=0.1, affine=True, track_running_stats=True)      2                 0                    0                                       \n",
      "Conv2d(256, 1024, kernel_size=(1, 1), stride=(1, 1), bias=False)                      1                 0                    0                                       \n",
      "BatchNorm2d(1024, eps=1e-05, momentum=0.1, affine=True, track_running_stats=True)     2                 0                    0                                       \n",
      "ReLU(inplace=True)                                                                    0                 0                    0                                       \n",
      "Conv2d(512, 1024, kernel_size=(1, 1), stride=(2, 2), bias=False)                      1                 0                    0                                       \n",
      "BatchNorm2d(1024, eps=1e-05, momentum=0.1, affine=True, track_running_stats=True)     2                 0                    0                                       \n",
      "Conv2d(1024, 256, kernel_size=(1, 1), stride=(1, 1), bias=False)                      1                 0                    0                                       \n",
      "BatchNorm2d(256, eps=1e-05, momentum=0.1, affine=True, track_running_stats=True)      2                 0                    0                                       \n",
      "Conv2d(256, 256, kernel_size=(3, 3), stride=(1, 1), padding=(1, 1), bias=False)       1                 0                    0                                       \n",
      "BatchNorm2d(256, eps=1e-05, momentum=0.1, affine=True, track_running_stats=True)      2                 0                    0                                       \n",
      "Conv2d(256, 1024, kernel_size=(1, 1), stride=(1, 1), bias=False)                      1                 0                    0                                       \n",
      "BatchNorm2d(1024, eps=1e-05, momentum=0.1, affine=True, track_running_stats=True)     2                 0                    0                                       \n",
      "ReLU(inplace=True)                                                                    0                 0                    0                                       \n",
      "Conv2d(1024, 256, kernel_size=(1, 1), stride=(1, 1), bias=False)                      1                 0                    0                                       \n",
      "BatchNorm2d(256, eps=1e-05, momentum=0.1, affine=True, track_running_stats=True)      2                 0                    0                                       \n",
      "Conv2d(256, 256, kernel_size=(3, 3), stride=(1, 1), padding=(1, 1), bias=False)       1                 0                    0                                       \n",
      "BatchNorm2d(256, eps=1e-05, momentum=0.1, affine=True, track_running_stats=True)      2                 0                    0                                       \n",
      "Conv2d(256, 1024, kernel_size=(1, 1), stride=(1, 1), bias=False)                      1                 0                    0                                       \n",
      "BatchNorm2d(1024, eps=1e-05, momentum=0.1, affine=True, track_running_stats=True)     2                 0                    0                                       \n",
      "ReLU(inplace=True)                                                                    0                 0                    0                                       \n",
      "Conv2d(1024, 256, kernel_size=(1, 1), stride=(1, 1), bias=False)                      1                 0                    0                                       \n",
      "BatchNorm2d(256, eps=1e-05, momentum=0.1, affine=True, track_running_stats=True)      2                 0                    0                                       \n",
      "Conv2d(256, 256, kernel_size=(3, 3), stride=(1, 1), padding=(1, 1), bias=False)       1                 0                    0                                       \n",
      "BatchNorm2d(256, eps=1e-05, momentum=0.1, affine=True, track_running_stats=True)      2                 0                    0                                       \n",
      "Conv2d(256, 1024, kernel_size=(1, 1), stride=(1, 1), bias=False)                      1                 0                    0                                       \n",
      "BatchNorm2d(1024, eps=1e-05, momentum=0.1, affine=True, track_running_stats=True)     2                 0                    0                                       \n",
      "ReLU(inplace=True)                                                                    0                 0                    0                                       \n",
      "Conv2d(1024, 256, kernel_size=(1, 1), stride=(1, 1), bias=False)                      1                 0                    0                                       \n",
      "BatchNorm2d(256, eps=1e-05, momentum=0.1, affine=True, track_running_stats=True)      2                 0                    0                                       \n",
      "Conv2d(256, 256, kernel_size=(3, 3), stride=(1, 1), padding=(1, 1), bias=False)       1                 0                    0                                       \n",
      "BatchNorm2d(256, eps=1e-05, momentum=0.1, affine=True, track_running_stats=True)      2                 0                    0                                       \n",
      "Conv2d(256, 1024, kernel_size=(1, 1), stride=(1, 1), bias=False)                      1                 0                    0                                       \n",
      "BatchNorm2d(1024, eps=1e-05, momentum=0.1, affine=True, track_running_stats=True)     2                 0                    0                                       \n",
      "ReLU(inplace=True)                                                                    0                 0                    0                                       \n",
      "Conv2d(1024, 256, kernel_size=(1, 1), stride=(1, 1), bias=False)                      1                 0                    0                                       \n",
      "BatchNorm2d(256, eps=1e-05, momentum=0.1, affine=True, track_running_stats=True)      2                 0                    0                                       \n",
      "Conv2d(256, 256, kernel_size=(3, 3), stride=(1, 1), padding=(1, 1), bias=False)       1                 0                    0                                       \n",
      "BatchNorm2d(256, eps=1e-05, momentum=0.1, affine=True, track_running_stats=True)      2                 0                    0                                       \n",
      "Conv2d(256, 1024, kernel_size=(1, 1), stride=(1, 1), bias=False)                      1                 0                    0                                       \n",
      "BatchNorm2d(1024, eps=1e-05, momentum=0.1, affine=True, track_running_stats=True)     2                 0                    0                                       \n",
      "ReLU(inplace=True)                                                                    0                 0                    0                                       \n",
      "Conv2d(1024, 256, kernel_size=(1, 1), stride=(1, 1), bias=False)                      1                 0                    0                                       \n",
      "BatchNorm2d(256, eps=1e-05, momentum=0.1, affine=True, track_running_stats=True)      2                 0                    0                                       \n",
      "Conv2d(256, 256, kernel_size=(3, 3), stride=(1, 1), padding=(1, 1), bias=False)       1                 0                    0                                       \n",
      "BatchNorm2d(256, eps=1e-05, momentum=0.1, affine=True, track_running_stats=True)      2                 0                    0                                       \n",
      "Conv2d(256, 1024, kernel_size=(1, 1), stride=(1, 1), bias=False)                      1                 0                    0                                       \n",
      "BatchNorm2d(1024, eps=1e-05, momentum=0.1, affine=True, track_running_stats=True)     2                 0                    0                                       \n",
      "ReLU(inplace=True)                                                                    0                 0                    0                                       \n",
      "Conv2d(1024, 256, kernel_size=(1, 1), stride=(1, 1), bias=False)                      1                 0                    0                                       \n",
      "BatchNorm2d(256, eps=1e-05, momentum=0.1, affine=True, track_running_stats=True)      2                 0                    0                                       \n",
      "Conv2d(256, 256, kernel_size=(3, 3), stride=(1, 1), padding=(1, 1), bias=False)       1                 0                    0                                       \n",
      "BatchNorm2d(256, eps=1e-05, momentum=0.1, affine=True, track_running_stats=True)      2                 0                    0                                       \n",
      "Conv2d(256, 1024, kernel_size=(1, 1), stride=(1, 1), bias=False)                      1                 0                    0                                       \n",
      "BatchNorm2d(1024, eps=1e-05, momentum=0.1, affine=True, track_running_stats=True)     2                 0                    0                                       \n",
      "ReLU(inplace=True)                                                                    0                 0                    0                                       \n",
      "Conv2d(1024, 256, kernel_size=(1, 1), stride=(1, 1), bias=False)                      1                 0                    0                                       \n",
      "BatchNorm2d(256, eps=1e-05, momentum=0.1, affine=True, track_running_stats=True)      2                 0                    0                                       \n",
      "Conv2d(256, 256, kernel_size=(3, 3), stride=(1, 1), padding=(1, 1), bias=False)       1                 0                    0                                       \n",
      "BatchNorm2d(256, eps=1e-05, momentum=0.1, affine=True, track_running_stats=True)      2                 0                    0                                       \n",
      "Conv2d(256, 1024, kernel_size=(1, 1), stride=(1, 1), bias=False)                      1                 0                    0                                       \n",
      "BatchNorm2d(1024, eps=1e-05, momentum=0.1, affine=True, track_running_stats=True)     2                 0                    0                                       \n",
      "ReLU(inplace=True)                                                                    0                 0                    0                                       \n",
      "Conv2d(1024, 256, kernel_size=(1, 1), stride=(1, 1), bias=False)                      1                 0                    0                                       \n",
      "BatchNorm2d(256, eps=1e-05, momentum=0.1, affine=True, track_running_stats=True)      2                 0                    0                                       \n",
      "Conv2d(256, 256, kernel_size=(3, 3), stride=(1, 1), padding=(1, 1), bias=False)       1                 0                    0                                       \n",
      "BatchNorm2d(256, eps=1e-05, momentum=0.1, affine=True, track_running_stats=True)      2                 0                    0                                       \n",
      "Conv2d(256, 1024, kernel_size=(1, 1), stride=(1, 1), bias=False)                      1                 0                    0                                       \n",
      "BatchNorm2d(1024, eps=1e-05, momentum=0.1, affine=True, track_running_stats=True)     2                 0                    0                                       \n",
      "ReLU(inplace=True)                                                                    0                 0                    0                                       \n",
      "Conv2d(1024, 256, kernel_size=(1, 1), stride=(1, 1), bias=False)                      1                 0                    0                                       \n",
      "BatchNorm2d(256, eps=1e-05, momentum=0.1, affine=True, track_running_stats=True)      2                 0                    0                                       \n",
      "Conv2d(256, 256, kernel_size=(3, 3), stride=(1, 1), padding=(1, 1), bias=False)       1                 0                    0                                       \n",
      "BatchNorm2d(256, eps=1e-05, momentum=0.1, affine=True, track_running_stats=True)      2                 0                    0                                       \n",
      "Conv2d(256, 1024, kernel_size=(1, 1), stride=(1, 1), bias=False)                      1                 0                    0                                       \n",
      "BatchNorm2d(1024, eps=1e-05, momentum=0.1, affine=True, track_running_stats=True)     2                 0                    0                                       \n",
      "ReLU(inplace=True)                                                                    0                 0                    0                                       \n",
      "Conv2d(1024, 256, kernel_size=(1, 1), stride=(1, 1), bias=False)                      1                 0                    0                                       \n",
      "BatchNorm2d(256, eps=1e-05, momentum=0.1, affine=True, track_running_stats=True)      2                 0                    0                                       \n",
      "Conv2d(256, 256, kernel_size=(3, 3), stride=(1, 1), padding=(1, 1), bias=False)       1                 0                    0                                       \n",
      "BatchNorm2d(256, eps=1e-05, momentum=0.1, affine=True, track_running_stats=True)      2                 0                    0                                       \n",
      "Conv2d(256, 1024, kernel_size=(1, 1), stride=(1, 1), bias=False)                      1                 0                    0                                       \n",
      "BatchNorm2d(1024, eps=1e-05, momentum=0.1, affine=True, track_running_stats=True)     2                 0                    0                                       \n",
      "ReLU(inplace=True)                                                                    0                 0                    0                                       \n",
      "Conv2d(1024, 256, kernel_size=(1, 1), stride=(1, 1), bias=False)                      1                 0                    0                                       \n",
      "BatchNorm2d(256, eps=1e-05, momentum=0.1, affine=True, track_running_stats=True)      2                 0                    0                                       \n",
      "Conv2d(256, 256, kernel_size=(3, 3), stride=(1, 1), padding=(1, 1), bias=False)       1                 0                    0                                       \n",
      "BatchNorm2d(256, eps=1e-05, momentum=0.1, affine=True, track_running_stats=True)      2                 0                    0                                       \n",
      "Conv2d(256, 1024, kernel_size=(1, 1), stride=(1, 1), bias=False)                      1                 0                    0                                       \n",
      "BatchNorm2d(1024, eps=1e-05, momentum=0.1, affine=True, track_running_stats=True)     2                 0                    0                                       \n",
      "ReLU(inplace=True)                                                                    0                 0                    0                                       \n",
      "Conv2d(1024, 256, kernel_size=(1, 1), stride=(1, 1), bias=False)                      1                 0                    0                                       \n",
      "BatchNorm2d(256, eps=1e-05, momentum=0.1, affine=True, track_running_stats=True)      2                 0                    0                                       \n",
      "Conv2d(256, 256, kernel_size=(3, 3), stride=(1, 1), padding=(1, 1), bias=False)       1                 0                    0                                       \n",
      "BatchNorm2d(256, eps=1e-05, momentum=0.1, affine=True, track_running_stats=True)      2                 0                    0                                       \n",
      "Conv2d(256, 1024, kernel_size=(1, 1), stride=(1, 1), bias=False)                      1                 0                    0                                       \n",
      "BatchNorm2d(1024, eps=1e-05, momentum=0.1, affine=True, track_running_stats=True)     2                 0                    0                                       \n",
      "ReLU(inplace=True)                                                                    0                 0                    0                                       \n",
      "Conv2d(1024, 256, kernel_size=(1, 1), stride=(1, 1), bias=False)                      1                 0                    0                                       \n",
      "BatchNorm2d(256, eps=1e-05, momentum=0.1, affine=True, track_running_stats=True)      2                 0                    0                                       \n",
      "Conv2d(256, 256, kernel_size=(3, 3), stride=(1, 1), padding=(1, 1), bias=False)       1                 0                    0                                       \n",
      "BatchNorm2d(256, eps=1e-05, momentum=0.1, affine=True, track_running_stats=True)      2                 0                    0                                       \n",
      "Conv2d(256, 1024, kernel_size=(1, 1), stride=(1, 1), bias=False)                      1                 0                    0                                       \n",
      "BatchNorm2d(1024, eps=1e-05, momentum=0.1, affine=True, track_running_stats=True)     2                 0                    0                                       \n",
      "ReLU(inplace=True)                                                                    0                 0                    0                                       \n",
      "Conv2d(1024, 256, kernel_size=(1, 1), stride=(1, 1), bias=False)                      1                 0                    0                                       \n",
      "BatchNorm2d(256, eps=1e-05, momentum=0.1, affine=True, track_running_stats=True)      2                 0                    0                                       \n",
      "Conv2d(256, 256, kernel_size=(3, 3), stride=(1, 1), padding=(1, 1), bias=False)       1                 0                    0                                       \n",
      "BatchNorm2d(256, eps=1e-05, momentum=0.1, affine=True, track_running_stats=True)      2                 0                    0                                       \n",
      "Conv2d(256, 1024, kernel_size=(1, 1), stride=(1, 1), bias=False)                      1                 0                    0                                       \n",
      "BatchNorm2d(1024, eps=1e-05, momentum=0.1, affine=True, track_running_stats=True)     2                 0                    0                                       \n",
      "ReLU(inplace=True)                                                                    0                 0                    0                                       \n",
      "Conv2d(1024, 256, kernel_size=(1, 1), stride=(1, 1), bias=False)                      1                 0                    0                                       \n",
      "BatchNorm2d(256, eps=1e-05, momentum=0.1, affine=True, track_running_stats=True)      2                 0                    0                                       \n",
      "Conv2d(256, 256, kernel_size=(3, 3), stride=(1, 1), padding=(1, 1), bias=False)       1                 0                    0                                       \n",
      "BatchNorm2d(256, eps=1e-05, momentum=0.1, affine=True, track_running_stats=True)      2                 0                    0                                       \n",
      "Conv2d(256, 1024, kernel_size=(1, 1), stride=(1, 1), bias=False)                      1                 0                    0                                       \n",
      "BatchNorm2d(1024, eps=1e-05, momentum=0.1, affine=True, track_running_stats=True)     2                 0                    0                                       \n",
      "ReLU(inplace=True)                                                                    0                 0                    0                                       \n",
      "Conv2d(1024, 256, kernel_size=(1, 1), stride=(1, 1), bias=False)                      1                 0                    0                                       \n",
      "BatchNorm2d(256, eps=1e-05, momentum=0.1, affine=True, track_running_stats=True)      2                 0                    0                                       \n",
      "Conv2d(256, 256, kernel_size=(3, 3), stride=(1, 1), padding=(1, 1), bias=False)       1                 0                    0                                       \n",
      "BatchNorm2d(256, eps=1e-05, momentum=0.1, affine=True, track_running_stats=True)      2                 0                    0                                       \n",
      "Conv2d(256, 1024, kernel_size=(1, 1), stride=(1, 1), bias=False)                      1                 0                    0                                       \n",
      "BatchNorm2d(1024, eps=1e-05, momentum=0.1, affine=True, track_running_stats=True)     2                 0                    0                                       \n",
      "ReLU(inplace=True)                                                                    0                 0                    0                                       \n",
      "Conv2d(1024, 256, kernel_size=(1, 1), stride=(1, 1), bias=False)                      1                 0                    0                                       \n",
      "BatchNorm2d(256, eps=1e-05, momentum=0.1, affine=True, track_running_stats=True)      2                 0                    0                                       \n",
      "Conv2d(256, 256, kernel_size=(3, 3), stride=(1, 1), padding=(1, 1), bias=False)       1                 0                    0                                       \n",
      "BatchNorm2d(256, eps=1e-05, momentum=0.1, affine=True, track_running_stats=True)      2                 0                    0                                       \n",
      "Conv2d(256, 1024, kernel_size=(1, 1), stride=(1, 1), bias=False)                      1                 0                    0                                       \n",
      "BatchNorm2d(1024, eps=1e-05, momentum=0.1, affine=True, track_running_stats=True)     2                 0                    0                                       \n",
      "ReLU(inplace=True)                                                                    0                 0                    0                                       \n",
      "Conv2d(1024, 256, kernel_size=(1, 1), stride=(1, 1), bias=False)                      1                 0                    0                                       \n",
      "BatchNorm2d(256, eps=1e-05, momentum=0.1, affine=True, track_running_stats=True)      2                 0                    0                                       \n",
      "Conv2d(256, 256, kernel_size=(3, 3), stride=(1, 1), padding=(1, 1), bias=False)       1                 0                    0                                       \n",
      "BatchNorm2d(256, eps=1e-05, momentum=0.1, affine=True, track_running_stats=True)      2                 0                    0                                       \n",
      "Conv2d(256, 1024, kernel_size=(1, 1), stride=(1, 1), bias=False)                      1                 0                    0                                       \n",
      "BatchNorm2d(1024, eps=1e-05, momentum=0.1, affine=True, track_running_stats=True)     2                 0                    0                                       \n",
      "ReLU(inplace=True)                                                                    0                 0                    0                                       \n",
      "Conv2d(1024, 256, kernel_size=(1, 1), stride=(1, 1), bias=False)                      1                 0                    0                                       \n",
      "BatchNorm2d(256, eps=1e-05, momentum=0.1, affine=True, track_running_stats=True)      2                 0                    0                                       \n",
      "Conv2d(256, 256, kernel_size=(3, 3), stride=(1, 1), padding=(1, 1), bias=False)       1                 0                    0                                       \n",
      "BatchNorm2d(256, eps=1e-05, momentum=0.1, affine=True, track_running_stats=True)      2                 0                    0                                       \n",
      "Conv2d(256, 1024, kernel_size=(1, 1), stride=(1, 1), bias=False)                      1                 0                    0                                       \n",
      "BatchNorm2d(1024, eps=1e-05, momentum=0.1, affine=True, track_running_stats=True)     2                 0                    0                                       \n",
      "ReLU(inplace=True)                                                                    0                 0                    0                                       \n",
      "Conv2d(1024, 256, kernel_size=(1, 1), stride=(1, 1), bias=False)                      1                 0                    0                                       \n",
      "BatchNorm2d(256, eps=1e-05, momentum=0.1, affine=True, track_running_stats=True)      2                 0                    0                                       \n",
      "Conv2d(256, 256, kernel_size=(3, 3), stride=(1, 1), padding=(1, 1), bias=False)       1                 0                    0                                       \n",
      "BatchNorm2d(256, eps=1e-05, momentum=0.1, affine=True, track_running_stats=True)      2                 0                    0                                       \n",
      "Conv2d(256, 1024, kernel_size=(1, 1), stride=(1, 1), bias=False)                      1                 0                    0                                       \n",
      "BatchNorm2d(1024, eps=1e-05, momentum=0.1, affine=True, track_running_stats=True)     2                 0                    0                                       \n",
      "ReLU(inplace=True)                                                                    0                 0                    0                                       \n",
      "Conv2d(1024, 256, kernel_size=(1, 1), stride=(1, 1), bias=False)                      1                 0                    0                                       \n",
      "BatchNorm2d(256, eps=1e-05, momentum=0.1, affine=True, track_running_stats=True)      2                 0                    0                                       \n",
      "Conv2d(256, 256, kernel_size=(3, 3), stride=(1, 1), padding=(1, 1), bias=False)       1                 0                    0                                       \n",
      "BatchNorm2d(256, eps=1e-05, momentum=0.1, affine=True, track_running_stats=True)      2                 0                    0                                       \n",
      "Conv2d(256, 1024, kernel_size=(1, 1), stride=(1, 1), bias=False)                      1                 0                    0                                       \n",
      "BatchNorm2d(1024, eps=1e-05, momentum=0.1, affine=True, track_running_stats=True)     2                 0                    0                                       \n",
      "ReLU(inplace=True)                                                                    0                 0                    0                                       \n",
      "Conv2d(1024, 512, kernel_size=(1, 1), stride=(1, 1), bias=False)                      1                 0                    0                                       \n",
      "BatchNorm2d(512, eps=1e-05, momentum=0.1, affine=True, track_running_stats=True)      2                 0                    0                                       \n",
      "Conv2d(512, 512, kernel_size=(3, 3), stride=(2, 2), padding=(1, 1), bias=False)       1                 0                    0                                       \n",
      "BatchNorm2d(512, eps=1e-05, momentum=0.1, affine=True, track_running_stats=True)      2                 0                    0                                       \n",
      "Conv2d(512, 2048, kernel_size=(1, 1), stride=(1, 1), bias=False)                      1                 0                    0                                       \n",
      "BatchNorm2d(2048, eps=1e-05, momentum=0.1, affine=True, track_running_stats=True)     2                 0                    0                                       \n",
      "ReLU(inplace=True)                                                                    0                 0                    0                                       \n",
      "Conv2d(1024, 2048, kernel_size=(1, 1), stride=(2, 2), bias=False)                     1                 0                    0                                       \n",
      "BatchNorm2d(2048, eps=1e-05, momentum=0.1, affine=True, track_running_stats=True)     2                 0                    0                                       \n",
      "Conv2d(2048, 512, kernel_size=(1, 1), stride=(1, 1), bias=False)                      1                 0                    0                                       \n",
      "BatchNorm2d(512, eps=1e-05, momentum=0.1, affine=True, track_running_stats=True)      2                 0                    0                                       \n",
      "Conv2d(512, 512, kernel_size=(3, 3), stride=(1, 1), padding=(1, 1), bias=False)       1                 0                    0                                       \n",
      "BatchNorm2d(512, eps=1e-05, momentum=0.1, affine=True, track_running_stats=True)      2                 0                    0                                       \n",
      "Conv2d(512, 2048, kernel_size=(1, 1), stride=(1, 1), bias=False)                      1                 0                    0                                       \n",
      "BatchNorm2d(2048, eps=1e-05, momentum=0.1, affine=True, track_running_stats=True)     2                 0                    0                                       \n",
      "ReLU(inplace=True)                                                                    0                 0                    0                                       \n",
      "Conv2d(2048, 512, kernel_size=(1, 1), stride=(1, 1), bias=False)                      1                 0                    0                                       \n",
      "BatchNorm2d(512, eps=1e-05, momentum=0.1, affine=True, track_running_stats=True)      2                 0                    0                                       \n",
      "Conv2d(512, 512, kernel_size=(3, 3), stride=(1, 1), padding=(1, 1), bias=False)       1                 0                    0                                       \n",
      "BatchNorm2d(512, eps=1e-05, momentum=0.1, affine=True, track_running_stats=True)      2                 0                    0                                       \n",
      "Conv2d(512, 2048, kernel_size=(1, 1), stride=(1, 1), bias=False)                      1                 0                    0                                       \n",
      "BatchNorm2d(2048, eps=1e-05, momentum=0.1, affine=True, track_running_stats=True)     2                 0                    0                                       \n",
      "ReLU(inplace=True)                                                                    0                 0                    0                                       \n",
      "AdaptiveAvgPool2d(output_size=(14, 14))                                               0                 0                    0                                       \n",
      "Dropout(p=0.5, inplace=False)                                                         0                 0                    0                                       \n",
      "Linear(in_features=2048, out_features=512, bias=True)                                 2                 2                    1,049,088                               \n",
      "Linear(in_features=512, out_features=512, bias=True)                                  2                 2                    262,656                                 \n",
      "Linear(in_features=512, out_features=1, bias=True)                                    2                 2                    513                                     \n",
      "ReLU()                                                                                0                 0                    0                                       \n",
      "Softmax(dim=1)                                                                        0                 0                    0                                       \n",
      "Embedding(2519370, 300)                                                               1                 1                    755,811,000                             \n",
      "LSTMCell(2348, 512)                                                                   4                 4                    5,861,376                               \n",
      "Linear(in_features=2048, out_features=512, bias=True)                                 2                 2                    1,049,088                               \n",
      "Linear(in_features=2048, out_features=512, bias=True)                                 2                 2                    1,049,088                               \n",
      "Linear(in_features=512, out_features=2048, bias=True)                                 2                 2                    1,050,624                               \n",
      "Sigmoid()                                                                             0                 0                    0                                       \n",
      "Linear(in_features=512, out_features=2519370, bias=True)                              2                 2                    1,292,436,810                           \n",
      "Total number of parameters elements 2,058,570,243\n"
     ]
    }
   ],
   "source": [
    "def summary_trainable(learner):\n",
    "    result = []\n",
    "    total_params_element = 0\n",
    "    def check_trainable(module):\n",
    "        nonlocal total_params_element\n",
    "        if len(list(module.children())) == 0:\n",
    "            num_param = 0\n",
    "            num_trainable_param = 0\n",
    "            num_param_numel = 0\n",
    "            for parameter in module.parameters():\n",
    "                num_param += 1\n",
    "                if parameter.requires_grad:\n",
    "                    num_param_numel += parameter.numel()\n",
    "                    total_params_element += parameter.numel()\n",
    "                    num_trainable_param += 1\n",
    "\n",
    "            result.append({'module': module, 'num_param': num_param , 'num_trainable_param' : num_trainable_param, 'num_param_numel': num_param_numel})\n",
    "    learner.model.apply(check_trainable)\n",
    "\n",
    "    print(\"{: <85} {: <17} {: <20} {: <40}\".format('Module Name', 'Total Parameters', 'Trainable Parameters', '# Elements in Trainable Parametrs'))\n",
    "    for row in result:\n",
    "        print(\"{: <85} {: <17} {: <20} {: <40,}\".format(row['module'].__str__(), row['num_param'], row['num_trainable_param'], row['num_param_numel']))\n",
    "    print('Total number of parameters elements {:,}'.format(total_params_element))\n",
    "\n",
    "\n",
    "\n",
    "# uncomment below to print summary of trainable layers \n",
    "#learn.freeze()\n",
    "summary_trainable(learn)"
   ]
  },
  {
   "cell_type": "markdown",
   "metadata": {},
   "source": [
    "## Training"
   ]
  },
  {
   "cell_type": "markdown",
   "metadata": {},
   "source": [
    "### Stage 1: with encoder part freezed"
   ]
  },
  {
   "cell_type": "code",
   "execution_count": 57,
   "metadata": {
    "ExecuteTime": {
     "end_time": "2020-08-01T16:00:50.406415Z",
     "start_time": "2020-08-01T15:59:05.117515Z"
    }
   },
   "outputs": [
    {
     "data": {
      "text/html": [
       "\n",
       "    <div>\n",
       "        <style>\n",
       "            /* Turns off some styling */\n",
       "            progress {\n",
       "                /* gets rid of default border in Firefox and Opera. */\n",
       "                border: none;\n",
       "                /* Needs to be in here for Safari polyfill so background images work as expected. */\n",
       "                background-size: auto;\n",
       "            }\n",
       "            .progress-bar-interrupted, .progress-bar-interrupted::-webkit-progress-bar {\n",
       "                background: #F44336;\n",
       "            }\n",
       "        </style>\n",
       "      <progress value='0' class='' max='1' style='width:300px; height:20px; vertical-align: middle;'></progress>\n",
       "      0.00% [0/1 00:00<00:00]\n",
       "    </div>\n",
       "    \n",
       "<table border=\"1\" class=\"dataframe\">\n",
       "  <thead>\n",
       "    <tr style=\"text-align: left;\">\n",
       "      <th>epoch</th>\n",
       "      <th>train_loss</th>\n",
       "      <th>valid_loss</th>\n",
       "      <th>topK_accuracy</th>\n",
       "      <th>bleu_metric</th>\n",
       "      <th>time</th>\n",
       "    </tr>\n",
       "  </thead>\n",
       "  <tbody>\n",
       "  </tbody>\n",
       "</table><p>\n",
       "\n",
       "    <div>\n",
       "        <style>\n",
       "            /* Turns off some styling */\n",
       "            progress {\n",
       "                /* gets rid of default border in Firefox and Opera. */\n",
       "                border: none;\n",
       "                /* Needs to be in here for Safari polyfill so background images work as expected. */\n",
       "                background-size: auto;\n",
       "            }\n",
       "            .progress-bar-interrupted, .progress-bar-interrupted::-webkit-progress-bar {\n",
       "                background: #F44336;\n",
       "            }\n",
       "        </style>\n",
       "      <progress value='0' class='' max='10000' style='width:300px; height:20px; vertical-align: middle;'></progress>\n",
       "      0.00% [0/10000 00:00<00:00]\n",
       "    </div>\n",
       "    "
      ],
      "text/plain": [
       "<IPython.core.display.HTML object>"
      ]
     },
     "metadata": {},
     "output_type": "display_data"
    },
    {
     "ename": "RuntimeError",
     "evalue": "CUDA out of memory. Tried to allocate 4.81 GiB (GPU 0; 31.75 GiB total capacity; 24.23 GiB already allocated; 197.50 MiB free; 30.10 GiB reserved in total by PyTorch)",
     "output_type": "error",
     "traceback": [
      "\u001b[0;31m---------------------------------------------------------------------------\u001b[0m",
      "\u001b[0;31mRuntimeError\u001b[0m                              Traceback (most recent call last)",
      "\u001b[0;32m/scratch/cse/phd/anz198717/suchith_data/fastai1/fastai/basic_train.py\u001b[0m in \u001b[0;36mfit\u001b[0;34m(epochs, learn, callbacks, metrics)\u001b[0m\n\u001b[1;32m    100\u001b[0m                 \u001b[0mxb\u001b[0m\u001b[0;34m,\u001b[0m \u001b[0myb\u001b[0m \u001b[0;34m=\u001b[0m \u001b[0mcb_handler\u001b[0m\u001b[0;34m.\u001b[0m\u001b[0mon_batch_begin\u001b[0m\u001b[0;34m(\u001b[0m\u001b[0mxb\u001b[0m\u001b[0;34m,\u001b[0m \u001b[0myb\u001b[0m\u001b[0;34m)\u001b[0m\u001b[0;34m\u001b[0m\u001b[0;34m\u001b[0m\u001b[0m\n\u001b[0;32m--> 101\u001b[0;31m                 \u001b[0mloss\u001b[0m \u001b[0;34m=\u001b[0m \u001b[0mloss_batch\u001b[0m\u001b[0;34m(\u001b[0m\u001b[0mlearn\u001b[0m\u001b[0;34m.\u001b[0m\u001b[0mmodel\u001b[0m\u001b[0;34m,\u001b[0m \u001b[0mxb\u001b[0m\u001b[0;34m,\u001b[0m \u001b[0myb\u001b[0m\u001b[0;34m,\u001b[0m \u001b[0mlearn\u001b[0m\u001b[0;34m.\u001b[0m\u001b[0mloss_func\u001b[0m\u001b[0;34m,\u001b[0m \u001b[0mlearn\u001b[0m\u001b[0;34m.\u001b[0m\u001b[0mopt\u001b[0m\u001b[0;34m,\u001b[0m \u001b[0mcb_handler\u001b[0m\u001b[0;34m)\u001b[0m\u001b[0;34m\u001b[0m\u001b[0;34m\u001b[0m\u001b[0m\n\u001b[0m\u001b[1;32m    102\u001b[0m                 \u001b[0;32mif\u001b[0m \u001b[0mcb_handler\u001b[0m\u001b[0;34m.\u001b[0m\u001b[0mon_batch_end\u001b[0m\u001b[0;34m(\u001b[0m\u001b[0mloss\u001b[0m\u001b[0;34m)\u001b[0m\u001b[0;34m:\u001b[0m \u001b[0;32mbreak\u001b[0m\u001b[0;34m\u001b[0m\u001b[0;34m\u001b[0m\u001b[0m\n",
      "\u001b[0;32m/scratch/cse/phd/anz198717/suchith_data/fastai1/fastai/basic_train.py\u001b[0m in \u001b[0;36mloss_batch\u001b[0;34m(model, xb, yb, loss_func, opt, cb_handler)\u001b[0m\n\u001b[1;32m     34\u001b[0m         \u001b[0;32mif\u001b[0m \u001b[0;32mnot\u001b[0m \u001b[0mskip_bwd\u001b[0m\u001b[0;34m:\u001b[0m                     \u001b[0mloss\u001b[0m\u001b[0;34m.\u001b[0m\u001b[0mbackward\u001b[0m\u001b[0;34m(\u001b[0m\u001b[0;34m)\u001b[0m\u001b[0;34m\u001b[0m\u001b[0;34m\u001b[0m\u001b[0m\n\u001b[0;32m---> 35\u001b[0;31m         \u001b[0;32mif\u001b[0m \u001b[0;32mnot\u001b[0m \u001b[0mcb_handler\u001b[0m\u001b[0;34m.\u001b[0m\u001b[0mon_backward_end\u001b[0m\u001b[0;34m(\u001b[0m\u001b[0;34m)\u001b[0m\u001b[0;34m:\u001b[0m \u001b[0mopt\u001b[0m\u001b[0;34m.\u001b[0m\u001b[0mstep\u001b[0m\u001b[0;34m(\u001b[0m\u001b[0;34m)\u001b[0m\u001b[0;34m\u001b[0m\u001b[0;34m\u001b[0m\u001b[0m\n\u001b[0m\u001b[1;32m     36\u001b[0m         \u001b[0;32mif\u001b[0m \u001b[0;32mnot\u001b[0m \u001b[0mcb_handler\u001b[0m\u001b[0;34m.\u001b[0m\u001b[0mon_step_end\u001b[0m\u001b[0;34m(\u001b[0m\u001b[0;34m)\u001b[0m\u001b[0;34m:\u001b[0m     \u001b[0mopt\u001b[0m\u001b[0;34m.\u001b[0m\u001b[0mzero_grad\u001b[0m\u001b[0;34m(\u001b[0m\u001b[0;34m)\u001b[0m\u001b[0;34m\u001b[0m\u001b[0;34m\u001b[0m\u001b[0m\n",
      "\u001b[0;32m/scratch/cse/phd/anz198717/suchith_data/fastai1/fastai/callback.py\u001b[0m in \u001b[0;36mstep\u001b[0;34m(self)\u001b[0m\n\u001b[1;32m     58\u001b[0m             \u001b[0mself\u001b[0m\u001b[0;34m.\u001b[0m\u001b[0mset_val\u001b[0m\u001b[0;34m(\u001b[0m\u001b[0;34m'weight_decay'\u001b[0m\u001b[0;34m,\u001b[0m \u001b[0mlistify\u001b[0m\u001b[0;34m(\u001b[0m\u001b[0;36m0\u001b[0m\u001b[0;34m,\u001b[0m \u001b[0mself\u001b[0m\u001b[0;34m.\u001b[0m\u001b[0m_wd\u001b[0m\u001b[0;34m)\u001b[0m\u001b[0;34m)\u001b[0m\u001b[0;34m\u001b[0m\u001b[0;34m\u001b[0m\u001b[0m\n\u001b[0;32m---> 59\u001b[0;31m         \u001b[0mself\u001b[0m\u001b[0;34m.\u001b[0m\u001b[0mopt\u001b[0m\u001b[0;34m.\u001b[0m\u001b[0mstep\u001b[0m\u001b[0;34m(\u001b[0m\u001b[0;34m)\u001b[0m\u001b[0;34m\u001b[0m\u001b[0;34m\u001b[0m\u001b[0m\n\u001b[0m\u001b[1;32m     60\u001b[0m \u001b[0;34m\u001b[0m\u001b[0m\n",
      "\u001b[0;32m/scratch/cse/phd/anz198717/anaconda3/lib/python3.7/site-packages/torch/optim/optimizer.py\u001b[0m in \u001b[0;36mwrapper\u001b[0;34m(*args, **kwargs)\u001b[0m\n\u001b[1;32m     88\u001b[0m                 \u001b[0;32mwith\u001b[0m \u001b[0mtorch\u001b[0m\u001b[0;34m.\u001b[0m\u001b[0mautograd\u001b[0m\u001b[0;34m.\u001b[0m\u001b[0mprofiler\u001b[0m\u001b[0;34m.\u001b[0m\u001b[0mrecord_function\u001b[0m\u001b[0;34m(\u001b[0m\u001b[0mprofile_name\u001b[0m\u001b[0;34m)\u001b[0m\u001b[0;34m:\u001b[0m\u001b[0;34m\u001b[0m\u001b[0;34m\u001b[0m\u001b[0m\n\u001b[0;32m---> 89\u001b[0;31m                     \u001b[0;32mreturn\u001b[0m \u001b[0mfunc\u001b[0m\u001b[0;34m(\u001b[0m\u001b[0;34m*\u001b[0m\u001b[0margs\u001b[0m\u001b[0;34m,\u001b[0m \u001b[0;34m**\u001b[0m\u001b[0mkwargs\u001b[0m\u001b[0;34m)\u001b[0m\u001b[0;34m\u001b[0m\u001b[0;34m\u001b[0m\u001b[0m\n\u001b[0m\u001b[1;32m     90\u001b[0m             \u001b[0;32mreturn\u001b[0m \u001b[0mwrapper\u001b[0m\u001b[0;34m\u001b[0m\u001b[0;34m\u001b[0m\u001b[0m\n",
      "\u001b[0;32m/scratch/cse/phd/anz198717/anaconda3/lib/python3.7/site-packages/torch/autograd/grad_mode.py\u001b[0m in \u001b[0;36mdecorate_context\u001b[0;34m(*args, **kwargs)\u001b[0m\n\u001b[1;32m     26\u001b[0m             \u001b[0;32mwith\u001b[0m \u001b[0mself\u001b[0m\u001b[0;34m.\u001b[0m\u001b[0m__class__\u001b[0m\u001b[0;34m(\u001b[0m\u001b[0;34m)\u001b[0m\u001b[0;34m:\u001b[0m\u001b[0;34m\u001b[0m\u001b[0;34m\u001b[0m\u001b[0m\n\u001b[0;32m---> 27\u001b[0;31m                 \u001b[0;32mreturn\u001b[0m \u001b[0mfunc\u001b[0m\u001b[0;34m(\u001b[0m\u001b[0;34m*\u001b[0m\u001b[0margs\u001b[0m\u001b[0;34m,\u001b[0m \u001b[0;34m**\u001b[0m\u001b[0mkwargs\u001b[0m\u001b[0;34m)\u001b[0m\u001b[0;34m\u001b[0m\u001b[0;34m\u001b[0m\u001b[0m\n\u001b[0m\u001b[1;32m     28\u001b[0m         \u001b[0;32mreturn\u001b[0m \u001b[0mcast\u001b[0m\u001b[0;34m(\u001b[0m\u001b[0mF\u001b[0m\u001b[0;34m,\u001b[0m \u001b[0mdecorate_context\u001b[0m\u001b[0;34m)\u001b[0m\u001b[0;34m\u001b[0m\u001b[0;34m\u001b[0m\u001b[0m\n",
      "\u001b[0;32m/scratch/cse/phd/anz198717/anaconda3/lib/python3.7/site-packages/torch/optim/adam.py\u001b[0m in \u001b[0;36mstep\u001b[0;34m(self, closure)\u001b[0m\n\u001b[1;32m     88\u001b[0m                         \u001b[0;31m# Exponential moving average of gradient values\u001b[0m\u001b[0;34m\u001b[0m\u001b[0;34m\u001b[0m\u001b[0;34m\u001b[0m\u001b[0m\n\u001b[0;32m---> 89\u001b[0;31m                         \u001b[0mstate\u001b[0m\u001b[0;34m[\u001b[0m\u001b[0;34m'exp_avg'\u001b[0m\u001b[0;34m]\u001b[0m \u001b[0;34m=\u001b[0m \u001b[0mtorch\u001b[0m\u001b[0;34m.\u001b[0m\u001b[0mzeros_like\u001b[0m\u001b[0;34m(\u001b[0m\u001b[0mp\u001b[0m\u001b[0;34m,\u001b[0m \u001b[0mmemory_format\u001b[0m\u001b[0;34m=\u001b[0m\u001b[0mtorch\u001b[0m\u001b[0;34m.\u001b[0m\u001b[0mpreserve_format\u001b[0m\u001b[0;34m)\u001b[0m\u001b[0;34m\u001b[0m\u001b[0;34m\u001b[0m\u001b[0m\n\u001b[0m\u001b[1;32m     90\u001b[0m                         \u001b[0;31m# Exponential moving average of squared gradient values\u001b[0m\u001b[0;34m\u001b[0m\u001b[0;34m\u001b[0m\u001b[0;34m\u001b[0m\u001b[0m\n",
      "\u001b[0;31mRuntimeError\u001b[0m: CUDA out of memory. Tried to allocate 4.81 GiB (GPU 0; 31.75 GiB total capacity; 21.21 GiB already allocated; 3.06 GiB free; 27.23 GiB reserved in total by PyTorch)",
      "\nDuring handling of the above exception, another exception occurred:\n",
      "\u001b[0;31mRuntimeError\u001b[0m                              Traceback (most recent call last)",
      "\u001b[0;32m<ipython-input-57-e3d285dc8c31>\u001b[0m in \u001b[0;36m<module>\u001b[0;34m\u001b[0m\n\u001b[1;32m      1\u001b[0m \u001b[0mlearn\u001b[0m\u001b[0;34m.\u001b[0m\u001b[0mfreeze\u001b[0m\u001b[0;34m(\u001b[0m\u001b[0;34m)\u001b[0m\u001b[0;34m\u001b[0m\u001b[0;34m\u001b[0m\u001b[0m\n\u001b[0;32m----> 2\u001b[0;31m \u001b[0mlearn\u001b[0m\u001b[0;34m.\u001b[0m\u001b[0mlr_find\u001b[0m\u001b[0;34m(\u001b[0m\u001b[0mend_lr\u001b[0m \u001b[0;34m=\u001b[0m \u001b[0;36m1\u001b[0m\u001b[0;34m)\u001b[0m\u001b[0;34m\u001b[0m\u001b[0;34m\u001b[0m\u001b[0m\n\u001b[0m\u001b[1;32m      3\u001b[0m \u001b[0mlearn\u001b[0m\u001b[0;34m.\u001b[0m\u001b[0mrecorder\u001b[0m\u001b[0;34m.\u001b[0m\u001b[0mplot\u001b[0m\u001b[0;34m(\u001b[0m\u001b[0msuggestion\u001b[0m\u001b[0;34m=\u001b[0m\u001b[0;32mTrue\u001b[0m\u001b[0;34m)\u001b[0m\u001b[0;31m#;\u001b[0m\u001b[0;34m\u001b[0m\u001b[0;34m\u001b[0m\u001b[0m\n\u001b[1;32m      4\u001b[0m \u001b[0;31m#find_appropriate_lr(learn,plot=True)\u001b[0m\u001b[0;34m\u001b[0m\u001b[0;34m\u001b[0m\u001b[0;34m\u001b[0m\u001b[0m\n",
      "\u001b[0;32m/scratch/cse/phd/anz198717/suchith_data/fastai1/fastai/train.py\u001b[0m in \u001b[0;36mlr_find\u001b[0;34m(learn, start_lr, end_lr, num_it, stop_div, wd)\u001b[0m\n\u001b[1;32m     39\u001b[0m     \u001b[0mcb\u001b[0m \u001b[0;34m=\u001b[0m \u001b[0mLRFinder\u001b[0m\u001b[0;34m(\u001b[0m\u001b[0mlearn\u001b[0m\u001b[0;34m,\u001b[0m \u001b[0mstart_lr\u001b[0m\u001b[0;34m,\u001b[0m \u001b[0mend_lr\u001b[0m\u001b[0;34m,\u001b[0m \u001b[0mnum_it\u001b[0m\u001b[0;34m,\u001b[0m \u001b[0mstop_div\u001b[0m\u001b[0;34m)\u001b[0m\u001b[0;34m\u001b[0m\u001b[0;34m\u001b[0m\u001b[0m\n\u001b[1;32m     40\u001b[0m     \u001b[0mepochs\u001b[0m \u001b[0;34m=\u001b[0m \u001b[0mint\u001b[0m\u001b[0;34m(\u001b[0m\u001b[0mnp\u001b[0m\u001b[0;34m.\u001b[0m\u001b[0mceil\u001b[0m\u001b[0;34m(\u001b[0m\u001b[0mnum_it\u001b[0m\u001b[0;34m/\u001b[0m\u001b[0mlen\u001b[0m\u001b[0;34m(\u001b[0m\u001b[0mlearn\u001b[0m\u001b[0;34m.\u001b[0m\u001b[0mdata\u001b[0m\u001b[0;34m.\u001b[0m\u001b[0mtrain_dl\u001b[0m\u001b[0;34m)\u001b[0m\u001b[0;34m)\u001b[0m\u001b[0;34m)\u001b[0m \u001b[0;34m*\u001b[0m \u001b[0;34m(\u001b[0m\u001b[0mnum_distrib\u001b[0m\u001b[0;34m(\u001b[0m\u001b[0;34m)\u001b[0m \u001b[0;32mor\u001b[0m \u001b[0;36m1\u001b[0m\u001b[0;34m)\u001b[0m\u001b[0;34m\u001b[0m\u001b[0;34m\u001b[0m\u001b[0m\n\u001b[0;32m---> 41\u001b[0;31m     \u001b[0mlearn\u001b[0m\u001b[0;34m.\u001b[0m\u001b[0mfit\u001b[0m\u001b[0;34m(\u001b[0m\u001b[0mepochs\u001b[0m\u001b[0;34m,\u001b[0m \u001b[0mstart_lr\u001b[0m\u001b[0;34m,\u001b[0m \u001b[0mcallbacks\u001b[0m\u001b[0;34m=\u001b[0m\u001b[0;34m[\u001b[0m\u001b[0mcb\u001b[0m\u001b[0;34m]\u001b[0m\u001b[0;34m,\u001b[0m \u001b[0mwd\u001b[0m\u001b[0;34m=\u001b[0m\u001b[0mwd\u001b[0m\u001b[0;34m)\u001b[0m\u001b[0;34m\u001b[0m\u001b[0;34m\u001b[0m\u001b[0m\n\u001b[0m\u001b[1;32m     42\u001b[0m \u001b[0;34m\u001b[0m\u001b[0m\n\u001b[1;32m     43\u001b[0m def to_fp16(learn:Learner, loss_scale:float=None, max_noskip:int=1000, dynamic:bool=True, clip:float=None,\n",
      "\u001b[0;32m/scratch/cse/phd/anz198717/suchith_data/fastai1/fastai/basic_train.py\u001b[0m in \u001b[0;36mfit\u001b[0;34m(self, epochs, lr, wd, callbacks)\u001b[0m\n\u001b[1;32m    198\u001b[0m         \u001b[0;32melse\u001b[0m\u001b[0;34m:\u001b[0m \u001b[0mself\u001b[0m\u001b[0;34m.\u001b[0m\u001b[0mopt\u001b[0m\u001b[0;34m.\u001b[0m\u001b[0mlr\u001b[0m\u001b[0;34m,\u001b[0m\u001b[0mself\u001b[0m\u001b[0;34m.\u001b[0m\u001b[0mopt\u001b[0m\u001b[0;34m.\u001b[0m\u001b[0mwd\u001b[0m \u001b[0;34m=\u001b[0m \u001b[0mlr\u001b[0m\u001b[0;34m,\u001b[0m\u001b[0mwd\u001b[0m\u001b[0;34m\u001b[0m\u001b[0;34m\u001b[0m\u001b[0m\n\u001b[1;32m    199\u001b[0m         \u001b[0mcallbacks\u001b[0m \u001b[0;34m=\u001b[0m \u001b[0;34m[\u001b[0m\u001b[0mcb\u001b[0m\u001b[0;34m(\u001b[0m\u001b[0mself\u001b[0m\u001b[0;34m)\u001b[0m \u001b[0;32mfor\u001b[0m \u001b[0mcb\u001b[0m \u001b[0;32min\u001b[0m \u001b[0mself\u001b[0m\u001b[0;34m.\u001b[0m\u001b[0mcallback_fns\u001b[0m \u001b[0;34m+\u001b[0m \u001b[0mlistify\u001b[0m\u001b[0;34m(\u001b[0m\u001b[0mdefaults\u001b[0m\u001b[0;34m.\u001b[0m\u001b[0mextra_callback_fns\u001b[0m\u001b[0;34m)\u001b[0m\u001b[0;34m]\u001b[0m \u001b[0;34m+\u001b[0m \u001b[0mlistify\u001b[0m\u001b[0;34m(\u001b[0m\u001b[0mcallbacks\u001b[0m\u001b[0;34m)\u001b[0m\u001b[0;34m\u001b[0m\u001b[0;34m\u001b[0m\u001b[0m\n\u001b[0;32m--> 200\u001b[0;31m         \u001b[0mfit\u001b[0m\u001b[0;34m(\u001b[0m\u001b[0mepochs\u001b[0m\u001b[0;34m,\u001b[0m \u001b[0mself\u001b[0m\u001b[0;34m,\u001b[0m \u001b[0mmetrics\u001b[0m\u001b[0;34m=\u001b[0m\u001b[0mself\u001b[0m\u001b[0;34m.\u001b[0m\u001b[0mmetrics\u001b[0m\u001b[0;34m,\u001b[0m \u001b[0mcallbacks\u001b[0m\u001b[0;34m=\u001b[0m\u001b[0mself\u001b[0m\u001b[0;34m.\u001b[0m\u001b[0mcallbacks\u001b[0m\u001b[0;34m+\u001b[0m\u001b[0mcallbacks\u001b[0m\u001b[0;34m)\u001b[0m\u001b[0;34m\u001b[0m\u001b[0;34m\u001b[0m\u001b[0m\n\u001b[0m\u001b[1;32m    201\u001b[0m \u001b[0;34m\u001b[0m\u001b[0m\n\u001b[1;32m    202\u001b[0m     \u001b[0;32mdef\u001b[0m \u001b[0mcreate_opt\u001b[0m\u001b[0;34m(\u001b[0m\u001b[0mself\u001b[0m\u001b[0;34m,\u001b[0m \u001b[0mlr\u001b[0m\u001b[0;34m:\u001b[0m\u001b[0mFloats\u001b[0m\u001b[0;34m,\u001b[0m \u001b[0mwd\u001b[0m\u001b[0;34m:\u001b[0m\u001b[0mFloats\u001b[0m\u001b[0;34m=\u001b[0m\u001b[0;36m0.\u001b[0m\u001b[0;34m)\u001b[0m\u001b[0;34m->\u001b[0m\u001b[0;32mNone\u001b[0m\u001b[0;34m:\u001b[0m\u001b[0;34m\u001b[0m\u001b[0;34m\u001b[0m\u001b[0m\n",
      "\u001b[0;32m/scratch/cse/phd/anz198717/suchith_data/fastai1/fastai/basic_train.py\u001b[0m in \u001b[0;36mfit\u001b[0;34m(epochs, learn, callbacks, metrics)\u001b[0m\n\u001b[1;32m    110\u001b[0m         \u001b[0mexception\u001b[0m \u001b[0;34m=\u001b[0m \u001b[0me\u001b[0m\u001b[0;34m\u001b[0m\u001b[0;34m\u001b[0m\u001b[0m\n\u001b[1;32m    111\u001b[0m         \u001b[0;32mraise\u001b[0m\u001b[0;34m\u001b[0m\u001b[0;34m\u001b[0m\u001b[0m\n\u001b[0;32m--> 112\u001b[0;31m     \u001b[0;32mfinally\u001b[0m\u001b[0;34m:\u001b[0m \u001b[0mcb_handler\u001b[0m\u001b[0;34m.\u001b[0m\u001b[0mon_train_end\u001b[0m\u001b[0;34m(\u001b[0m\u001b[0mexception\u001b[0m\u001b[0;34m)\u001b[0m\u001b[0;34m\u001b[0m\u001b[0;34m\u001b[0m\u001b[0m\n\u001b[0m\u001b[1;32m    113\u001b[0m \u001b[0;34m\u001b[0m\u001b[0m\n\u001b[1;32m    114\u001b[0m loss_func_name2activ = {'cross_entropy_loss': F.softmax, 'nll_loss': torch.exp, 'poisson_nll_loss': torch.exp,\n",
      "\u001b[0;32m/scratch/cse/phd/anz198717/suchith_data/fastai1/fastai/callback.py\u001b[0m in \u001b[0;36mon_train_end\u001b[0;34m(self, exception)\u001b[0m\n\u001b[1;32m    323\u001b[0m     \u001b[0;32mdef\u001b[0m \u001b[0mon_train_end\u001b[0m\u001b[0;34m(\u001b[0m\u001b[0mself\u001b[0m\u001b[0;34m,\u001b[0m \u001b[0mexception\u001b[0m\u001b[0;34m:\u001b[0m\u001b[0mUnion\u001b[0m\u001b[0;34m[\u001b[0m\u001b[0mbool\u001b[0m\u001b[0;34m,\u001b[0m\u001b[0mException\u001b[0m\u001b[0;34m]\u001b[0m\u001b[0;34m)\u001b[0m\u001b[0;34m->\u001b[0m\u001b[0;32mNone\u001b[0m\u001b[0;34m:\u001b[0m\u001b[0;34m\u001b[0m\u001b[0;34m\u001b[0m\u001b[0m\n\u001b[1;32m    324\u001b[0m         \u001b[0;34m\"Handle end of training, `exception` is an `Exception` or False if no exceptions during training.\"\u001b[0m\u001b[0;34m\u001b[0m\u001b[0;34m\u001b[0m\u001b[0m\n\u001b[0;32m--> 325\u001b[0;31m         \u001b[0mself\u001b[0m\u001b[0;34m(\u001b[0m\u001b[0;34m'train_end'\u001b[0m\u001b[0;34m,\u001b[0m \u001b[0mexception\u001b[0m\u001b[0;34m=\u001b[0m\u001b[0mexception\u001b[0m\u001b[0;34m)\u001b[0m\u001b[0;34m\u001b[0m\u001b[0;34m\u001b[0m\u001b[0m\n\u001b[0m\u001b[1;32m    326\u001b[0m \u001b[0;34m\u001b[0m\u001b[0m\n\u001b[1;32m    327\u001b[0m     \u001b[0;34m@\u001b[0m\u001b[0mproperty\u001b[0m\u001b[0;34m\u001b[0m\u001b[0;34m\u001b[0m\u001b[0m\n",
      "\u001b[0;32m/scratch/cse/phd/anz198717/suchith_data/fastai1/fastai/callback.py\u001b[0m in \u001b[0;36m__call__\u001b[0;34m(self, cb_name, call_mets, **kwargs)\u001b[0m\n\u001b[1;32m    251\u001b[0m         \u001b[0;32mif\u001b[0m \u001b[0mcall_mets\u001b[0m\u001b[0;34m:\u001b[0m\u001b[0;34m\u001b[0m\u001b[0;34m\u001b[0m\u001b[0m\n\u001b[1;32m    252\u001b[0m             \u001b[0;32mfor\u001b[0m \u001b[0mmet\u001b[0m \u001b[0;32min\u001b[0m \u001b[0mself\u001b[0m\u001b[0;34m.\u001b[0m\u001b[0mmetrics\u001b[0m\u001b[0;34m:\u001b[0m \u001b[0mself\u001b[0m\u001b[0;34m.\u001b[0m\u001b[0m_call_and_update\u001b[0m\u001b[0;34m(\u001b[0m\u001b[0mmet\u001b[0m\u001b[0;34m,\u001b[0m \u001b[0mcb_name\u001b[0m\u001b[0;34m,\u001b[0m \u001b[0;34m**\u001b[0m\u001b[0mkwargs\u001b[0m\u001b[0;34m)\u001b[0m\u001b[0;34m\u001b[0m\u001b[0;34m\u001b[0m\u001b[0m\n\u001b[0;32m--> 253\u001b[0;31m         \u001b[0;32mfor\u001b[0m \u001b[0mcb\u001b[0m \u001b[0;32min\u001b[0m \u001b[0mself\u001b[0m\u001b[0;34m.\u001b[0m\u001b[0mcallbacks\u001b[0m\u001b[0;34m:\u001b[0m \u001b[0mself\u001b[0m\u001b[0;34m.\u001b[0m\u001b[0m_call_and_update\u001b[0m\u001b[0;34m(\u001b[0m\u001b[0mcb\u001b[0m\u001b[0;34m,\u001b[0m \u001b[0mcb_name\u001b[0m\u001b[0;34m,\u001b[0m \u001b[0;34m**\u001b[0m\u001b[0mkwargs\u001b[0m\u001b[0;34m)\u001b[0m\u001b[0;34m\u001b[0m\u001b[0;34m\u001b[0m\u001b[0m\n\u001b[0m\u001b[1;32m    254\u001b[0m \u001b[0;34m\u001b[0m\u001b[0m\n\u001b[1;32m    255\u001b[0m     \u001b[0;32mdef\u001b[0m \u001b[0mset_dl\u001b[0m\u001b[0;34m(\u001b[0m\u001b[0mself\u001b[0m\u001b[0;34m,\u001b[0m \u001b[0mdl\u001b[0m\u001b[0;34m:\u001b[0m\u001b[0mDataLoader\u001b[0m\u001b[0;34m)\u001b[0m\u001b[0;34m:\u001b[0m\u001b[0;34m\u001b[0m\u001b[0;34m\u001b[0m\u001b[0m\n",
      "\u001b[0;32m/scratch/cse/phd/anz198717/suchith_data/fastai1/fastai/callback.py\u001b[0m in \u001b[0;36m_call_and_update\u001b[0;34m(self, cb, cb_name, **kwargs)\u001b[0m\n\u001b[1;32m    241\u001b[0m     \u001b[0;32mdef\u001b[0m \u001b[0m_call_and_update\u001b[0m\u001b[0;34m(\u001b[0m\u001b[0mself\u001b[0m\u001b[0;34m,\u001b[0m \u001b[0mcb\u001b[0m\u001b[0;34m,\u001b[0m \u001b[0mcb_name\u001b[0m\u001b[0;34m,\u001b[0m \u001b[0;34m**\u001b[0m\u001b[0mkwargs\u001b[0m\u001b[0;34m)\u001b[0m\u001b[0;34m->\u001b[0m\u001b[0;32mNone\u001b[0m\u001b[0;34m:\u001b[0m\u001b[0;34m\u001b[0m\u001b[0;34m\u001b[0m\u001b[0m\n\u001b[1;32m    242\u001b[0m         \u001b[0;34m\"Call `cb_name` on `cb` and update the inner state.\"\u001b[0m\u001b[0;34m\u001b[0m\u001b[0;34m\u001b[0m\u001b[0m\n\u001b[0;32m--> 243\u001b[0;31m         \u001b[0mnew\u001b[0m \u001b[0;34m=\u001b[0m \u001b[0mifnone\u001b[0m\u001b[0;34m(\u001b[0m\u001b[0mgetattr\u001b[0m\u001b[0;34m(\u001b[0m\u001b[0mcb\u001b[0m\u001b[0;34m,\u001b[0m \u001b[0;34mf'on_{cb_name}'\u001b[0m\u001b[0;34m)\u001b[0m\u001b[0;34m(\u001b[0m\u001b[0;34m**\u001b[0m\u001b[0mself\u001b[0m\u001b[0;34m.\u001b[0m\u001b[0mstate_dict\u001b[0m\u001b[0;34m,\u001b[0m \u001b[0;34m**\u001b[0m\u001b[0mkwargs\u001b[0m\u001b[0;34m)\u001b[0m\u001b[0;34m,\u001b[0m \u001b[0mdict\u001b[0m\u001b[0;34m(\u001b[0m\u001b[0;34m)\u001b[0m\u001b[0;34m)\u001b[0m\u001b[0;34m\u001b[0m\u001b[0;34m\u001b[0m\u001b[0m\n\u001b[0m\u001b[1;32m    244\u001b[0m         \u001b[0;32mfor\u001b[0m \u001b[0mk\u001b[0m\u001b[0;34m,\u001b[0m\u001b[0mv\u001b[0m \u001b[0;32min\u001b[0m \u001b[0mnew\u001b[0m\u001b[0;34m.\u001b[0m\u001b[0mitems\u001b[0m\u001b[0;34m(\u001b[0m\u001b[0;34m)\u001b[0m\u001b[0;34m:\u001b[0m\u001b[0;34m\u001b[0m\u001b[0;34m\u001b[0m\u001b[0m\n\u001b[1;32m    245\u001b[0m             \u001b[0;32mif\u001b[0m \u001b[0mk\u001b[0m \u001b[0;32mnot\u001b[0m \u001b[0;32min\u001b[0m \u001b[0mself\u001b[0m\u001b[0;34m.\u001b[0m\u001b[0mstate_dict\u001b[0m\u001b[0;34m:\u001b[0m\u001b[0;34m\u001b[0m\u001b[0;34m\u001b[0m\u001b[0m\n",
      "\u001b[0;32m/scratch/cse/phd/anz198717/suchith_data/fastai1/fastai/callbacks/lr_finder.py\u001b[0m in \u001b[0;36mon_train_end\u001b[0;34m(self, epoch, num_batch, **kwargs)\u001b[0m\n\u001b[1;32m     37\u001b[0m     \u001b[0;32mdef\u001b[0m \u001b[0mon_train_end\u001b[0m\u001b[0;34m(\u001b[0m\u001b[0mself\u001b[0m\u001b[0;34m,\u001b[0m \u001b[0mepoch\u001b[0m\u001b[0;34m:\u001b[0m\u001b[0mint\u001b[0m\u001b[0;34m,\u001b[0m \u001b[0mnum_batch\u001b[0m\u001b[0;34m:\u001b[0m\u001b[0mint\u001b[0m\u001b[0;34m,\u001b[0m \u001b[0;34m**\u001b[0m\u001b[0mkwargs\u001b[0m\u001b[0;34m:\u001b[0m\u001b[0mAny\u001b[0m\u001b[0;34m)\u001b[0m\u001b[0;34m->\u001b[0m\u001b[0;32mNone\u001b[0m\u001b[0;34m:\u001b[0m\u001b[0;34m\u001b[0m\u001b[0;34m\u001b[0m\u001b[0m\n\u001b[1;32m     38\u001b[0m         \u001b[0;34m\"Cleanup learn model weights disturbed during LRFinder exploration.\"\u001b[0m\u001b[0;34m\u001b[0m\u001b[0;34m\u001b[0m\u001b[0m\n\u001b[0;32m---> 39\u001b[0;31m         \u001b[0mself\u001b[0m\u001b[0;34m.\u001b[0m\u001b[0mlearn\u001b[0m\u001b[0;34m.\u001b[0m\u001b[0mload\u001b[0m\u001b[0;34m(\u001b[0m\u001b[0;34m'tmp'\u001b[0m\u001b[0;34m,\u001b[0m \u001b[0mpurge\u001b[0m\u001b[0;34m=\u001b[0m\u001b[0;32mFalse\u001b[0m\u001b[0;34m)\u001b[0m\u001b[0;34m\u001b[0m\u001b[0;34m\u001b[0m\u001b[0m\n\u001b[0m\u001b[1;32m     40\u001b[0m         \u001b[0;32mif\u001b[0m \u001b[0mhasattr\u001b[0m\u001b[0;34m(\u001b[0m\u001b[0mself\u001b[0m\u001b[0;34m.\u001b[0m\u001b[0mlearn\u001b[0m\u001b[0;34m.\u001b[0m\u001b[0mmodel\u001b[0m\u001b[0;34m,\u001b[0m \u001b[0;34m'reset'\u001b[0m\u001b[0;34m)\u001b[0m\u001b[0;34m:\u001b[0m \u001b[0mself\u001b[0m\u001b[0;34m.\u001b[0m\u001b[0mlearn\u001b[0m\u001b[0;34m.\u001b[0m\u001b[0mmodel\u001b[0m\u001b[0;34m.\u001b[0m\u001b[0mreset\u001b[0m\u001b[0;34m(\u001b[0m\u001b[0;34m)\u001b[0m\u001b[0;34m\u001b[0m\u001b[0;34m\u001b[0m\u001b[0m\n\u001b[1;32m     41\u001b[0m         \u001b[0;32mfor\u001b[0m \u001b[0mcb\u001b[0m \u001b[0;32min\u001b[0m \u001b[0mself\u001b[0m\u001b[0;34m.\u001b[0m\u001b[0mcallbacks\u001b[0m\u001b[0;34m:\u001b[0m\u001b[0;34m\u001b[0m\u001b[0;34m\u001b[0m\u001b[0m\n",
      "\u001b[0;32m/scratch/cse/phd/anz198717/suchith_data/fastai1/fastai/basic_train.py\u001b[0m in \u001b[0;36mload\u001b[0;34m(self, file, device, strict, with_opt, purge, remove_module)\u001b[0m\n\u001b[1;32m    267\u001b[0m         \u001b[0msource\u001b[0m \u001b[0;34m=\u001b[0m \u001b[0mself\u001b[0m\u001b[0;34m.\u001b[0m\u001b[0mpath\u001b[0m\u001b[0;34m/\u001b[0m\u001b[0mself\u001b[0m\u001b[0;34m.\u001b[0m\u001b[0mmodel_dir\u001b[0m\u001b[0;34m/\u001b[0m\u001b[0;34mf'{file}.pth'\u001b[0m \u001b[0;32mif\u001b[0m \u001b[0mis_pathlike\u001b[0m\u001b[0;34m(\u001b[0m\u001b[0mfile\u001b[0m\u001b[0;34m)\u001b[0m \u001b[0;32melse\u001b[0m \u001b[0mfile\u001b[0m\u001b[0;34m\u001b[0m\u001b[0;34m\u001b[0m\u001b[0m\n\u001b[1;32m    268\u001b[0m         \u001b[0mdistrib_barrier\u001b[0m\u001b[0;34m(\u001b[0m\u001b[0;34m)\u001b[0m\u001b[0;34m\u001b[0m\u001b[0;34m\u001b[0m\u001b[0m\n\u001b[0;32m--> 269\u001b[0;31m         \u001b[0mstate\u001b[0m \u001b[0;34m=\u001b[0m \u001b[0mtorch\u001b[0m\u001b[0;34m.\u001b[0m\u001b[0mload\u001b[0m\u001b[0;34m(\u001b[0m\u001b[0msource\u001b[0m\u001b[0;34m,\u001b[0m \u001b[0mmap_location\u001b[0m\u001b[0;34m=\u001b[0m\u001b[0mdevice\u001b[0m\u001b[0;34m)\u001b[0m\u001b[0;34m\u001b[0m\u001b[0;34m\u001b[0m\u001b[0m\n\u001b[0m\u001b[1;32m    270\u001b[0m         \u001b[0;32mif\u001b[0m \u001b[0mset\u001b[0m\u001b[0;34m(\u001b[0m\u001b[0mstate\u001b[0m\u001b[0;34m.\u001b[0m\u001b[0mkeys\u001b[0m\u001b[0;34m(\u001b[0m\u001b[0;34m)\u001b[0m\u001b[0;34m)\u001b[0m \u001b[0;34m==\u001b[0m \u001b[0;34m{\u001b[0m\u001b[0;34m'model'\u001b[0m\u001b[0;34m,\u001b[0m \u001b[0;34m'opt'\u001b[0m\u001b[0;34m}\u001b[0m\u001b[0;34m:\u001b[0m\u001b[0;34m\u001b[0m\u001b[0;34m\u001b[0m\u001b[0m\n\u001b[1;32m    271\u001b[0m             \u001b[0mmodel_state\u001b[0m \u001b[0;34m=\u001b[0m \u001b[0mstate\u001b[0m\u001b[0;34m[\u001b[0m\u001b[0;34m'model'\u001b[0m\u001b[0;34m]\u001b[0m\u001b[0;34m\u001b[0m\u001b[0;34m\u001b[0m\u001b[0m\n",
      "\u001b[0;32m/scratch/cse/phd/anz198717/anaconda3/lib/python3.7/site-packages/torch/serialization.py\u001b[0m in \u001b[0;36mload\u001b[0;34m(f, map_location, pickle_module, **pickle_load_args)\u001b[0m\n\u001b[1;32m    591\u001b[0m                     \u001b[0;32mreturn\u001b[0m \u001b[0mtorch\u001b[0m\u001b[0;34m.\u001b[0m\u001b[0mjit\u001b[0m\u001b[0;34m.\u001b[0m\u001b[0mload\u001b[0m\u001b[0;34m(\u001b[0m\u001b[0mopened_file\u001b[0m\u001b[0;34m)\u001b[0m\u001b[0;34m\u001b[0m\u001b[0;34m\u001b[0m\u001b[0m\n\u001b[1;32m    592\u001b[0m                 \u001b[0;32mreturn\u001b[0m \u001b[0m_load\u001b[0m\u001b[0;34m(\u001b[0m\u001b[0mopened_zipfile\u001b[0m\u001b[0;34m,\u001b[0m \u001b[0mmap_location\u001b[0m\u001b[0;34m,\u001b[0m \u001b[0mpickle_module\u001b[0m\u001b[0;34m,\u001b[0m \u001b[0;34m**\u001b[0m\u001b[0mpickle_load_args\u001b[0m\u001b[0;34m)\u001b[0m\u001b[0;34m\u001b[0m\u001b[0;34m\u001b[0m\u001b[0m\n\u001b[0;32m--> 593\u001b[0;31m         \u001b[0;32mreturn\u001b[0m \u001b[0m_legacy_load\u001b[0m\u001b[0;34m(\u001b[0m\u001b[0mopened_file\u001b[0m\u001b[0;34m,\u001b[0m \u001b[0mmap_location\u001b[0m\u001b[0;34m,\u001b[0m \u001b[0mpickle_module\u001b[0m\u001b[0;34m,\u001b[0m \u001b[0;34m**\u001b[0m\u001b[0mpickle_load_args\u001b[0m\u001b[0;34m)\u001b[0m\u001b[0;34m\u001b[0m\u001b[0;34m\u001b[0m\u001b[0m\n\u001b[0m\u001b[1;32m    594\u001b[0m \u001b[0;34m\u001b[0m\u001b[0m\n\u001b[1;32m    595\u001b[0m \u001b[0;34m\u001b[0m\u001b[0m\n",
      "\u001b[0;32m/scratch/cse/phd/anz198717/anaconda3/lib/python3.7/site-packages/torch/serialization.py\u001b[0m in \u001b[0;36m_legacy_load\u001b[0;34m(f, map_location, pickle_module, **pickle_load_args)\u001b[0m\n\u001b[1;32m    770\u001b[0m     \u001b[0munpickler\u001b[0m \u001b[0;34m=\u001b[0m \u001b[0mpickle_module\u001b[0m\u001b[0;34m.\u001b[0m\u001b[0mUnpickler\u001b[0m\u001b[0;34m(\u001b[0m\u001b[0mf\u001b[0m\u001b[0;34m,\u001b[0m \u001b[0;34m**\u001b[0m\u001b[0mpickle_load_args\u001b[0m\u001b[0;34m)\u001b[0m\u001b[0;34m\u001b[0m\u001b[0;34m\u001b[0m\u001b[0m\n\u001b[1;32m    771\u001b[0m     \u001b[0munpickler\u001b[0m\u001b[0;34m.\u001b[0m\u001b[0mpersistent_load\u001b[0m \u001b[0;34m=\u001b[0m \u001b[0mpersistent_load\u001b[0m\u001b[0;34m\u001b[0m\u001b[0;34m\u001b[0m\u001b[0m\n\u001b[0;32m--> 772\u001b[0;31m     \u001b[0mresult\u001b[0m \u001b[0;34m=\u001b[0m \u001b[0munpickler\u001b[0m\u001b[0;34m.\u001b[0m\u001b[0mload\u001b[0m\u001b[0;34m(\u001b[0m\u001b[0;34m)\u001b[0m\u001b[0;34m\u001b[0m\u001b[0;34m\u001b[0m\u001b[0m\n\u001b[0m\u001b[1;32m    773\u001b[0m \u001b[0;34m\u001b[0m\u001b[0m\n\u001b[1;32m    774\u001b[0m     \u001b[0mdeserialized_storage_keys\u001b[0m \u001b[0;34m=\u001b[0m \u001b[0mpickle_module\u001b[0m\u001b[0;34m.\u001b[0m\u001b[0mload\u001b[0m\u001b[0;34m(\u001b[0m\u001b[0mf\u001b[0m\u001b[0;34m,\u001b[0m \u001b[0;34m**\u001b[0m\u001b[0mpickle_load_args\u001b[0m\u001b[0;34m)\u001b[0m\u001b[0;34m\u001b[0m\u001b[0;34m\u001b[0m\u001b[0m\n",
      "\u001b[0;32m/scratch/cse/phd/anz198717/anaconda3/lib/python3.7/site-packages/torch/serialization.py\u001b[0m in \u001b[0;36mpersistent_load\u001b[0;34m(saved_id)\u001b[0m\n\u001b[1;32m    726\u001b[0m                 \u001b[0mobj\u001b[0m \u001b[0;34m=\u001b[0m \u001b[0mdata_type\u001b[0m\u001b[0;34m(\u001b[0m\u001b[0msize\u001b[0m\u001b[0;34m)\u001b[0m\u001b[0;34m\u001b[0m\u001b[0;34m\u001b[0m\u001b[0m\n\u001b[1;32m    727\u001b[0m                 \u001b[0mobj\u001b[0m\u001b[0;34m.\u001b[0m\u001b[0m_torch_load_uninitialized\u001b[0m \u001b[0;34m=\u001b[0m \u001b[0;32mTrue\u001b[0m\u001b[0;34m\u001b[0m\u001b[0;34m\u001b[0m\u001b[0m\n\u001b[0;32m--> 728\u001b[0;31m                 \u001b[0mdeserialized_objects\u001b[0m\u001b[0;34m[\u001b[0m\u001b[0mroot_key\u001b[0m\u001b[0;34m]\u001b[0m \u001b[0;34m=\u001b[0m \u001b[0mrestore_location\u001b[0m\u001b[0;34m(\u001b[0m\u001b[0mobj\u001b[0m\u001b[0;34m,\u001b[0m \u001b[0mlocation\u001b[0m\u001b[0;34m)\u001b[0m\u001b[0;34m\u001b[0m\u001b[0;34m\u001b[0m\u001b[0m\n\u001b[0m\u001b[1;32m    729\u001b[0m             \u001b[0mstorage\u001b[0m \u001b[0;34m=\u001b[0m \u001b[0mdeserialized_objects\u001b[0m\u001b[0;34m[\u001b[0m\u001b[0mroot_key\u001b[0m\u001b[0;34m]\u001b[0m\u001b[0;34m\u001b[0m\u001b[0;34m\u001b[0m\u001b[0m\n\u001b[1;32m    730\u001b[0m             \u001b[0;32mif\u001b[0m \u001b[0mview_metadata\u001b[0m \u001b[0;32mis\u001b[0m \u001b[0;32mnot\u001b[0m \u001b[0;32mNone\u001b[0m\u001b[0;34m:\u001b[0m\u001b[0;34m\u001b[0m\u001b[0;34m\u001b[0m\u001b[0m\n",
      "\u001b[0;32m/scratch/cse/phd/anz198717/anaconda3/lib/python3.7/site-packages/torch/serialization.py\u001b[0m in \u001b[0;36mrestore_location\u001b[0;34m(storage, location)\u001b[0m\n\u001b[1;32m    810\u001b[0m     \u001b[0;32melif\u001b[0m \u001b[0misinstance\u001b[0m\u001b[0;34m(\u001b[0m\u001b[0mmap_location\u001b[0m\u001b[0;34m,\u001b[0m \u001b[0mtorch\u001b[0m\u001b[0;34m.\u001b[0m\u001b[0mdevice\u001b[0m\u001b[0;34m)\u001b[0m\u001b[0;34m:\u001b[0m\u001b[0;34m\u001b[0m\u001b[0;34m\u001b[0m\u001b[0m\n\u001b[1;32m    811\u001b[0m         \u001b[0;32mdef\u001b[0m \u001b[0mrestore_location\u001b[0m\u001b[0;34m(\u001b[0m\u001b[0mstorage\u001b[0m\u001b[0;34m,\u001b[0m \u001b[0mlocation\u001b[0m\u001b[0;34m)\u001b[0m\u001b[0;34m:\u001b[0m\u001b[0;34m\u001b[0m\u001b[0;34m\u001b[0m\u001b[0m\n\u001b[0;32m--> 812\u001b[0;31m             \u001b[0;32mreturn\u001b[0m \u001b[0mdefault_restore_location\u001b[0m\u001b[0;34m(\u001b[0m\u001b[0mstorage\u001b[0m\u001b[0;34m,\u001b[0m \u001b[0mstr\u001b[0m\u001b[0;34m(\u001b[0m\u001b[0mmap_location\u001b[0m\u001b[0;34m)\u001b[0m\u001b[0;34m)\u001b[0m\u001b[0;34m\u001b[0m\u001b[0;34m\u001b[0m\u001b[0m\n\u001b[0m\u001b[1;32m    813\u001b[0m     \u001b[0;32melse\u001b[0m\u001b[0;34m:\u001b[0m\u001b[0;34m\u001b[0m\u001b[0;34m\u001b[0m\u001b[0m\n\u001b[1;32m    814\u001b[0m         \u001b[0;32mdef\u001b[0m \u001b[0mrestore_location\u001b[0m\u001b[0;34m(\u001b[0m\u001b[0mstorage\u001b[0m\u001b[0;34m,\u001b[0m \u001b[0mlocation\u001b[0m\u001b[0;34m)\u001b[0m\u001b[0;34m:\u001b[0m\u001b[0;34m\u001b[0m\u001b[0;34m\u001b[0m\u001b[0m\n",
      "\u001b[0;32m/scratch/cse/phd/anz198717/anaconda3/lib/python3.7/site-packages/torch/serialization.py\u001b[0m in \u001b[0;36mdefault_restore_location\u001b[0;34m(storage, location)\u001b[0m\n\u001b[1;32m    173\u001b[0m \u001b[0;32mdef\u001b[0m \u001b[0mdefault_restore_location\u001b[0m\u001b[0;34m(\u001b[0m\u001b[0mstorage\u001b[0m\u001b[0;34m,\u001b[0m \u001b[0mlocation\u001b[0m\u001b[0;34m)\u001b[0m\u001b[0;34m:\u001b[0m\u001b[0;34m\u001b[0m\u001b[0;34m\u001b[0m\u001b[0m\n\u001b[1;32m    174\u001b[0m     \u001b[0;32mfor\u001b[0m \u001b[0m_\u001b[0m\u001b[0;34m,\u001b[0m \u001b[0m_\u001b[0m\u001b[0;34m,\u001b[0m \u001b[0mfn\u001b[0m \u001b[0;32min\u001b[0m \u001b[0m_package_registry\u001b[0m\u001b[0;34m:\u001b[0m\u001b[0;34m\u001b[0m\u001b[0;34m\u001b[0m\u001b[0m\n\u001b[0;32m--> 175\u001b[0;31m         \u001b[0mresult\u001b[0m \u001b[0;34m=\u001b[0m \u001b[0mfn\u001b[0m\u001b[0;34m(\u001b[0m\u001b[0mstorage\u001b[0m\u001b[0;34m,\u001b[0m \u001b[0mlocation\u001b[0m\u001b[0;34m)\u001b[0m\u001b[0;34m\u001b[0m\u001b[0;34m\u001b[0m\u001b[0m\n\u001b[0m\u001b[1;32m    176\u001b[0m         \u001b[0;32mif\u001b[0m \u001b[0mresult\u001b[0m \u001b[0;32mis\u001b[0m \u001b[0;32mnot\u001b[0m \u001b[0;32mNone\u001b[0m\u001b[0;34m:\u001b[0m\u001b[0;34m\u001b[0m\u001b[0;34m\u001b[0m\u001b[0m\n\u001b[1;32m    177\u001b[0m             \u001b[0;32mreturn\u001b[0m \u001b[0mresult\u001b[0m\u001b[0;34m\u001b[0m\u001b[0;34m\u001b[0m\u001b[0m\n",
      "\u001b[0;32m/scratch/cse/phd/anz198717/anaconda3/lib/python3.7/site-packages/torch/serialization.py\u001b[0m in \u001b[0;36m_cuda_deserialize\u001b[0;34m(obj, location)\u001b[0m\n\u001b[1;32m    153\u001b[0m             \u001b[0mstorage_type\u001b[0m \u001b[0;34m=\u001b[0m \u001b[0mgetattr\u001b[0m\u001b[0;34m(\u001b[0m\u001b[0mtorch\u001b[0m\u001b[0;34m.\u001b[0m\u001b[0mcuda\u001b[0m\u001b[0;34m,\u001b[0m \u001b[0mtype\u001b[0m\u001b[0;34m(\u001b[0m\u001b[0mobj\u001b[0m\u001b[0;34m)\u001b[0m\u001b[0;34m.\u001b[0m\u001b[0m__name__\u001b[0m\u001b[0;34m)\u001b[0m\u001b[0;34m\u001b[0m\u001b[0;34m\u001b[0m\u001b[0m\n\u001b[1;32m    154\u001b[0m             \u001b[0;32mwith\u001b[0m \u001b[0mtorch\u001b[0m\u001b[0;34m.\u001b[0m\u001b[0mcuda\u001b[0m\u001b[0;34m.\u001b[0m\u001b[0mdevice\u001b[0m\u001b[0;34m(\u001b[0m\u001b[0mdevice\u001b[0m\u001b[0;34m)\u001b[0m\u001b[0;34m:\u001b[0m\u001b[0;34m\u001b[0m\u001b[0;34m\u001b[0m\u001b[0m\n\u001b[0;32m--> 155\u001b[0;31m                 \u001b[0;32mreturn\u001b[0m \u001b[0mstorage_type\u001b[0m\u001b[0;34m(\u001b[0m\u001b[0mobj\u001b[0m\u001b[0;34m.\u001b[0m\u001b[0msize\u001b[0m\u001b[0;34m(\u001b[0m\u001b[0;34m)\u001b[0m\u001b[0;34m)\u001b[0m\u001b[0;34m\u001b[0m\u001b[0;34m\u001b[0m\u001b[0m\n\u001b[0m\u001b[1;32m    156\u001b[0m         \u001b[0;32melse\u001b[0m\u001b[0;34m:\u001b[0m\u001b[0;34m\u001b[0m\u001b[0;34m\u001b[0m\u001b[0m\n\u001b[1;32m    157\u001b[0m             \u001b[0;32mreturn\u001b[0m \u001b[0mobj\u001b[0m\u001b[0;34m.\u001b[0m\u001b[0mcuda\u001b[0m\u001b[0;34m(\u001b[0m\u001b[0mdevice\u001b[0m\u001b[0;34m)\u001b[0m\u001b[0;34m\u001b[0m\u001b[0;34m\u001b[0m\u001b[0m\n",
      "\u001b[0;32m/scratch/cse/phd/anz198717/anaconda3/lib/python3.7/site-packages/torch/cuda/__init__.py\u001b[0m in \u001b[0;36m_lazy_new\u001b[0;34m(cls, *args, **kwargs)\u001b[0m\n\u001b[1;32m    482\u001b[0m     \u001b[0;31m# We may need to call lazy init again if we are a forked child\u001b[0m\u001b[0;34m\u001b[0m\u001b[0;34m\u001b[0m\u001b[0;34m\u001b[0m\u001b[0m\n\u001b[1;32m    483\u001b[0m     \u001b[0;31m# del _CudaBase.__new__\u001b[0m\u001b[0;34m\u001b[0m\u001b[0;34m\u001b[0m\u001b[0;34m\u001b[0m\u001b[0m\n\u001b[0;32m--> 484\u001b[0;31m     \u001b[0;32mreturn\u001b[0m \u001b[0msuper\u001b[0m\u001b[0;34m(\u001b[0m\u001b[0m_CudaBase\u001b[0m\u001b[0;34m,\u001b[0m \u001b[0mcls\u001b[0m\u001b[0;34m)\u001b[0m\u001b[0;34m.\u001b[0m\u001b[0m__new__\u001b[0m\u001b[0;34m(\u001b[0m\u001b[0mcls\u001b[0m\u001b[0;34m,\u001b[0m \u001b[0;34m*\u001b[0m\u001b[0margs\u001b[0m\u001b[0;34m,\u001b[0m \u001b[0;34m**\u001b[0m\u001b[0mkwargs\u001b[0m\u001b[0;34m)\u001b[0m\u001b[0;34m\u001b[0m\u001b[0;34m\u001b[0m\u001b[0m\n\u001b[0m\u001b[1;32m    485\u001b[0m \u001b[0;34m\u001b[0m\u001b[0m\n\u001b[1;32m    486\u001b[0m \u001b[0;34m\u001b[0m\u001b[0m\n",
      "\u001b[0;31mRuntimeError\u001b[0m: CUDA out of memory. Tried to allocate 4.81 GiB (GPU 0; 31.75 GiB total capacity; 24.23 GiB already allocated; 197.50 MiB free; 30.10 GiB reserved in total by PyTorch)"
     ]
    }
   ],
   "source": [
    "learn.freeze()\n",
    "learn.lr_find(end_lr = 1)\n",
    "learn.recorder.plot(suggestion=True)#;\n",
    "#find_appropriate_lr(learn,plot=True)"
   ]
  },
  {
   "cell_type": "code",
   "execution_count": null,
   "metadata": {
    "ExecuteTime": {
     "end_time": "2020-08-01T18:54:48.372193Z",
     "start_time": "2020-08-01T16:06:47.937087Z"
    },
    "scrolled": false
   },
   "outputs": [],
   "source": [
    "# writer = SummaryWriter(comment='stage1')\n",
    "# tb_callback = partial(TensorBoardFastAI, writer, \n",
    "#                       track_weight=True, track_grad=True, \n",
    "#                       metric_names=['val loss','accuracy','bleu_metric']) #beam_search_bleu4\n",
    "                      \n",
    "                      \n",
    "#tb_callback(learn)\n",
    "\n",
    "\n",
    "#TeacherForcingCallback(learn,decay_epochs=5),\n",
    "#ReduceLROnPlateauCallback(learn, monitor='bleu_metric',patience=1,factor=0.1,min_lr=1e-10),\n",
    "\n",
    "### train for 10 epochs\n",
    "learn.freeze()\n",
    "learn.fit(10,4e-4,callbacks = [SaveModelCallback(learn, monitor='bleu_metric',name='bestmodel_stage1'),\n",
    "                                         GradientClipping(learn = learn, clip=5.)])\n",
    "                                         #TeacherForcingCallback(learn)])\n",
    "                    #,tb_callback(learn)])"
   ]
  },
  {
   "cell_type": "markdown",
   "metadata": {},
   "source": [
    "### Stage-2: Unfreeze encoder part as well"
   ]
  },
  {
   "cell_type": "code",
   "execution_count": null,
   "metadata": {
    "ExecuteTime": {
     "end_time": "2020-05-06T09:44:55.815152Z",
     "start_time": "2020-05-06T09:44:04.662236Z"
    }
   },
   "outputs": [],
   "source": [
    "learn.data.batch_size = 6\n",
    "learn.unfreeze()\n",
    "learn.load('bestmodel_stage1');\n",
    "learn.lr_find(start_lr=1e-11,end_lr = 1e-03)\n",
    "learn.recorder.plot(suggestion=True)#;\n",
    "\n",
    "#find_appropriate_lr(learn,plot=True)"
   ]
  },
  {
   "cell_type": "code",
   "execution_count": null,
   "metadata": {
    "ExecuteTime": {
     "end_time": "2020-08-02T18:09:53.772511Z",
     "start_time": "2020-08-02T14:01:56.278137Z"
    },
    "scrolled": false
   },
   "outputs": [],
   "source": [
    "learn.data.batch_size = 6\n",
    "\n",
    "# writer = SummaryWriter(comment='stage2')\n",
    "# tb_callback = partial(TensorBoardFastAI, writer, \n",
    "#                       track_weight=True, track_grad=True, \n",
    "#                       metric_names=['val loss','accuracy','bleu_metric'])\n",
    "                      \n",
    "                      \n",
    "#tb_callback(learn)\n",
    "\n",
    "\n",
    "learn.unfreeze()\n",
    "learn.load('bestmodel_stage1');\n",
    "learn.fit_one_cycle(6,1e-4,\n",
    "                    callbacks = [SaveModelCallback(learn, monitor='bleu_metric',name='bestmodel_stage2'),\n",
    "                                 GradientClipping(learn = learn, clip=5.)])\n",
    "#                                  TeacherForcingCallback(learn,decay_epochs=5000),\n",
    "#                                  tb_callback(learn)])"
   ]
  },
  {
   "cell_type": "code",
   "execution_count": null,
   "metadata": {
    "ExecuteTime": {
     "end_time": "2020-08-02T18:10:03.842713Z",
     "start_time": "2020-08-02T18:10:03.331164Z"
    }
   },
   "outputs": [],
   "source": [
    "learn.save('last_epoch_stage2');"
   ]
  },
  {
   "cell_type": "code",
   "execution_count": null,
   "metadata": {
    "ExecuteTime": {
     "end_time": "2020-08-02T18:10:13.554401Z",
     "start_time": "2020-08-02T18:10:13.403581Z"
    }
   },
   "outputs": [],
   "source": [
    "!shutdown -h 10"
   ]
  }
 ],
 "metadata": {
  "celltoolbar": "Initialization Cell",
  "kernelspec": {
   "display_name": "Python 3",
   "language": "python",
   "name": "python3"
  },
  "language_info": {
   "codemirror_mode": {
    "name": "ipython",
    "version": 3
   },
   "file_extension": ".py",
   "mimetype": "text/x-python",
   "name": "python",
   "nbconvert_exporter": "python",
   "pygments_lexer": "ipython3",
   "version": "3.7.11"
  },
  "toc": {
   "base_numbering": 1,
   "nav_menu": {},
   "number_sections": true,
   "sideBar": true,
   "skip_h1_title": false,
   "title_cell": "Table of Contents",
   "title_sidebar": "Contents",
   "toc_cell": false,
   "toc_position": {
    "height": "868.889px",
    "left": "1653.99px",
    "top": "641.465px",
    "width": "165px"
   },
   "toc_section_display": true,
   "toc_window_display": false
  },
  "varInspector": {
   "cols": {
    "lenName": 16,
    "lenType": 16,
    "lenVar": 40
   },
   "kernels_config": {
    "python": {
     "delete_cmd_postfix": "",
     "delete_cmd_prefix": "del ",
     "library": "var_list.py",
     "varRefreshCmd": "print(var_dic_list())"
    },
    "r": {
     "delete_cmd_postfix": ") ",
     "delete_cmd_prefix": "rm(",
     "library": "var_list.r",
     "varRefreshCmd": "cat(var_dic_list()) "
    }
   },
   "types_to_exclude": [
    "module",
    "function",
    "builtin_function_or_method",
    "instance",
    "_Feature"
   ],
   "window_display": false
  }
 },
 "nbformat": 4,
 "nbformat_minor": 4
}
